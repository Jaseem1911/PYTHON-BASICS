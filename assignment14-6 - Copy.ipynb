{
 "cells": [
  {
   "cell_type": "code",
   "execution_count": 1,
   "id": "88c4688c",
   "metadata": {},
   "outputs": [
    {
     "name": "stdout",
     "output_type": "stream",
     "text": [
      "c is the largest number\n"
     ]
    }
   ],
   "source": [
    "a=2\n",
    "b=3\n",
    "c=4\n",
    "if a>b&a>c:\n",
    "    print(\"a is the largest number\")\n",
    "elif b>a&b>c:\n",
    "    print(\"b is the largest number\")\n",
    "else:\n",
    "    print(\"c is the largest number\")"
   ]
  },
  {
   "cell_type": "code",
   "execution_count": 2,
   "id": "4af018f7",
   "metadata": {},
   "outputs": [
    {
     "name": "stdout",
     "output_type": "stream",
     "text": [
      "11\n"
     ]
    }
   ],
   "source": [
    "a=5\n",
    "b=6\n",
    "c=a+b\n",
    "print(c)"
   ]
  },
  {
   "cell_type": "code",
   "execution_count": 3,
   "id": "6255803b",
   "metadata": {},
   "outputs": [
    {
     "name": "stdout",
     "output_type": "stream",
     "text": [
      "a is positive\n"
     ]
    }
   ],
   "source": [
    "a=10\n",
    "if a>0:\n",
    "    print(\"a is positive\")\n",
    "elif a<0:\n",
    "    print(\"a is negative\")\n",
    "else:\n",
    "    print(\"a is zero\")"
   ]
  },
  {
   "cell_type": "code",
   "execution_count": 10,
   "id": "e8ceab4d",
   "metadata": {},
   "outputs": [
    {
     "name": "stdout",
     "output_type": "stream",
     "text": [
      "n is odd\n"
     ]
    }
   ],
   "source": [
    "n=3\n",
    "if n%2==0:\n",
    "    print(\"n is even\")\n",
    "else:\n",
    "    print(\"n is odd\")"
   ]
  },
  {
   "cell_type": "code",
   "execution_count": 1,
   "id": "6423d193",
   "metadata": {},
   "outputs": [
    {
     "name": "stdout",
     "output_type": "stream",
     "text": [
      "1st subject mark90\n",
      "2nd subject mark89\n",
      "3rd subject mark78\n",
      "4th subject mark80\n",
      "5th subject mark85\n",
      "84\n",
      "failed\n"
     ]
    }
   ],
   "source": [
    "a=int(input(\"1st subject mark\"))\n",
    "b=int(input(\"2nd subject mark\"))\n",
    "c=int(input(\"3rd subject mark\"))\n",
    "d=int(input(\"4th subject mark\"))\n",
    "e=int(input(\"5th subject mark\"))\n",
    "avg=(a+b+c+d+e)//5\n",
    "print(avg)\n",
    "if(avg>=90):\n",
    "    print(\"A+\")\n",
    "elif(avg<=89&avg>=80):\n",
    "    print(\"A\")\n",
    "elif(avg<=79&avg>=70):\n",
    "    print(\"B\")\n",
    "elif(avg<=69&avg>=60):\n",
    "    print(\"C\")\n",
    "elif(avg<=59&avg>=50):\n",
    "    print(\"D\")\n",
    "elif(avg<=49&avg>=40):\n",
    "    print(\"E\")\n",
    "else:\n",
    "    print(\"failed\")"
   ]
  },
  {
   "cell_type": "code",
   "execution_count": null,
   "id": "c9c6db5c",
   "metadata": {},
   "outputs": [],
   "source": []
  },
  {
   "cell_type": "code",
   "execution_count": null,
   "id": "a69088ee",
   "metadata": {},
   "outputs": [],
   "source": []
  }
 ],
 "metadata": {
  "kernelspec": {
   "display_name": "Python 3 (ipykernel)",
   "language": "python",
   "name": "python3"
  },
  "language_info": {
   "codemirror_mode": {
    "name": "ipython",
    "version": 3
   },
   "file_extension": ".py",
   "mimetype": "text/x-python",
   "name": "python",
   "nbconvert_exporter": "python",
   "pygments_lexer": "ipython3",
   "version": "3.9.12"
  }
 },
 "nbformat": 4,
 "nbformat_minor": 5
}
