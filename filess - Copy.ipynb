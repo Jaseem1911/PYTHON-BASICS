{
 "cells": [
  {
   "cell_type": "code",
   "execution_count": 11,
   "id": "5f81b016",
   "metadata": {
    "scrolled": true
   },
   "outputs": [],
   "source": [
    "f=open(\"file.txt\")\n",
    "f.close()"
   ]
  },
  {
   "cell_type": "code",
   "execution_count": 12,
   "id": "200bb2c3",
   "metadata": {},
   "outputs": [],
   "source": [
    "try:\n",
    "    f=open(\"file.txt\")\n",
    "finally:\n",
    "    f.close()"
   ]
  },
  {
   "cell_type": "code",
   "execution_count": 10,
   "id": "d7a72650",
   "metadata": {},
   "outputs": [
    {
     "data": {
      "text/plain": [
       "<_io.TextIOWrapper name='file.txt' mode='w' encoding='cp1252'>"
      ]
     },
     "execution_count": 10,
     "metadata": {},
     "output_type": "execute_result"
    }
   ],
   "source": [
    "with open(\"file.txt\",'w',encoding='cp1252') as f:\n",
    "    f.write(\"i am tired,get me some water\")\n",
    "f"
   ]
  },
  {
   "cell_type": "code",
   "execution_count": 23,
   "id": "e36ce128",
   "metadata": {},
   "outputs": [
    {
     "data": {
      "text/plain": [
       "'my first'"
      ]
     },
     "execution_count": 23,
     "metadata": {},
     "output_type": "execute_result"
    }
   ],
   "source": [
    "s=open(\"file.txt\",'r',encoding='cp1252')\n",
    "s.read(8)"
   ]
  },
  {
   "cell_type": "code",
   "execution_count": 24,
   "id": "3a4584a2",
   "metadata": {},
   "outputs": [
    {
     "data": {
      "text/plain": [
       "' line'"
      ]
     },
     "execution_count": 24,
     "metadata": {},
     "output_type": "execute_result"
    }
   ],
   "source": [
    "f.read(5)"
   ]
  },
  {
   "cell_type": "code",
   "execution_count": 25,
   "id": "40a21637",
   "metadata": {},
   "outputs": [
    {
     "data": {
      "text/plain": [
       "'\\n\\nThis file \\ncontains three lines \\njaseem'"
      ]
     },
     "execution_count": 25,
     "metadata": {},
     "output_type": "execute_result"
    }
   ],
   "source": [
    "f.read()"
   ]
  },
  {
   "cell_type": "code",
   "execution_count": 7,
   "id": "fe6877f9",
   "metadata": {},
   "outputs": [
    {
     "data": {
      "text/plain": [
       "''"
      ]
     },
     "execution_count": 7,
     "metadata": {},
     "output_type": "execute_result"
    }
   ],
   "source": [
    "f.read()"
   ]
  },
  {
   "cell_type": "code",
   "execution_count": 8,
   "id": "daec66ef",
   "metadata": {},
   "outputs": [
    {
     "data": {
      "text/plain": [
       "<_io.TextIOWrapper name='file.txt' mode='r' encoding='cp1252'>"
      ]
     },
     "execution_count": 8,
     "metadata": {},
     "output_type": "execute_result"
    }
   ],
   "source": [
    "f=open(\"file.txt\")\n",
    "f"
   ]
  },
  {
   "cell_type": "code",
   "execution_count": 49,
   "id": "7dbeabd8",
   "metadata": {},
   "outputs": [
    {
     "data": {
      "text/plain": [
       "<_io.TextIOWrapper name='file.txt' mode='r+' encoding='cp1252'>"
      ]
     },
     "execution_count": 49,
     "metadata": {},
     "output_type": "execute_result"
    }
   ],
   "source": [
    "f=open(\"file.txt\",'r+')\n",
    "\n",
    "f"
   ]
  },
  {
   "cell_type": "code",
   "execution_count": null,
   "id": "6808629d",
   "metadata": {},
   "outputs": [],
   "source": []
  },
  {
   "cell_type": "code",
   "execution_count": 39,
   "id": "b67e5ae9",
   "metadata": {},
   "outputs": [],
   "source": [
    "file1=open(\"my_file.txt\",\"w\")\n",
    "L=[\"This is Delhi \\n\",\"This is Paris \\n\",\"This is London \"]\n",
    "file1.writelines(L)\n",
    "file1.close()"
   ]
  },
  {
   "cell_type": "code",
   "execution_count": 41,
   "id": "e07901f9",
   "metadata": {},
   "outputs": [],
   "source": [
    "file1=open(\"my_file.txt\",\"a\")\n",
    "file1.write(\"This is kerala \\n\")\n",
    "file1.close()"
   ]
  },
  {
   "cell_type": "code",
   "execution_count": 44,
   "id": "4938ae99",
   "metadata": {},
   "outputs": [],
   "source": [
    "import string\n",
    "def letters_file_line(n):\n",
    "   with open(\"words1.txt\", \"w\") as f:\n",
    "       alphabet = string.ascii_uppercase\n",
    "       letters = [alphabet[i:i + n] + \"\\n\" for i in range(0, len(alphabet), n)]\n",
    "       f.writelines(letters)\n",
    "letters_file_line(3)"
   ]
  },
  {
   "cell_type": "code",
   "execution_count": 112,
   "id": "a6d93aa4",
   "metadata": {},
   "outputs": [
    {
     "data": {
      "text/plain": [
       "'file.txt'"
      ]
     },
     "execution_count": 112,
     "metadata": {},
     "output_type": "execute_result"
    }
   ],
   "source": [
    "f=open(\"car.txt\",'r+')\n",
    "from shutil import copyfile\n",
    "copyfile(\"car.txt\",\"file.txt\")"
   ]
  },
  {
   "cell_type": "code",
   "execution_count": 83,
   "id": "a7118b21",
   "metadata": {},
   "outputs": [
    {
     "data": {
      "text/plain": [
       "<_io.TextIOWrapper name='car.txt' mode='a' encoding='cp1252'>"
      ]
     },
     "execution_count": 83,
     "metadata": {},
     "output_type": "execute_result"
    }
   ],
   "source": [
    "with open(\"car.txt\",\"a\") as f:\n",
    "    f.write(\" baleno2016 \\n\")\n",
    "    f.write(\" thar2020 \\n\")\n",
    "f"
   ]
  },
  {
   "cell_type": "code",
   "execution_count": 114,
   "id": "36b96fcd",
   "metadata": {},
   "outputs": [
    {
     "name": "stdout",
     "output_type": "stream",
     "text": [
      "4\n"
     ]
    }
   ],
   "source": [
    "with open(\"file.txt\") as f:\n",
    "    count=0\n",
    "    for i in f:\n",
    "        count=count+1\n",
    "    print(count)"
   ]
  },
  {
   "cell_type": "code",
   "execution_count": null,
   "id": "fdd62c10",
   "metadata": {},
   "outputs": [],
   "source": []
  }
 ],
 "metadata": {
  "kernelspec": {
   "display_name": "Python 3 (ipykernel)",
   "language": "python",
   "name": "python3"
  },
  "language_info": {
   "codemirror_mode": {
    "name": "ipython",
    "version": 3
   },
   "file_extension": ".py",
   "mimetype": "text/x-python",
   "name": "python",
   "nbconvert_exporter": "python",
   "pygments_lexer": "ipython3",
   "version": "3.9.12"
  }
 },
 "nbformat": 4,
 "nbformat_minor": 5
}
