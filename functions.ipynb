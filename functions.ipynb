{
 "cells": [
  {
   "cell_type": "code",
   "execution_count": 1,
   "id": "917eb0e4",
   "metadata": {},
   "outputs": [
    {
     "name": "stdout",
     "output_type": "stream",
     "text": [
      "Hello,paul.Good morning!\n"
     ]
    }
   ],
   "source": [
    "def greet(name):   \n",
    "    print(\"Hello,\"+ name + \".Good morning!\")\n",
    "greet('paul')"
   ]
  },
  {
   "cell_type": "code",
   "execution_count": 72,
   "id": "3ef3270f",
   "metadata": {},
   "outputs": [
    {
     "ename": "TypeError",
     "evalue": "greet() missing 1 required positional argument: 'msg'",
     "output_type": "error",
     "traceback": [
      "\u001b[1;31m---------------------------------------------------------------------------\u001b[0m",
      "\u001b[1;31mTypeError\u001b[0m                                 Traceback (most recent call last)",
      "Input \u001b[1;32mIn [72]\u001b[0m, in \u001b[0;36m<cell line: 1>\u001b[1;34m()\u001b[0m\n\u001b[1;32m----> 1\u001b[0m \u001b[43mgreet\u001b[49m\u001b[43m(\u001b[49m\u001b[38;5;124;43m'\u001b[39;49m\u001b[38;5;124;43mPaul\u001b[39;49m\u001b[38;5;124;43m'\u001b[39;49m\u001b[43m)\u001b[49m\n",
      "\u001b[1;31mTypeError\u001b[0m: greet() missing 1 required positional argument: 'msg'"
     ]
    }
   ],
   "source": [
    "greet('Paul')"
   ]
  },
  {
   "cell_type": "code",
   "execution_count": 9,
   "id": "8a741b4a",
   "metadata": {},
   "outputs": [],
   "source": [
    "def greets(name):\n",
    "    \"\"\"This function  greerts to the\n",
    "    person passed in as parameter\"\"\" \n",
    "    print(\"Hello,\"+ name + \".Good morning!\")\n"
   ]
  },
  {
   "cell_type": "code",
   "execution_count": 5,
   "id": "44114775",
   "metadata": {},
   "outputs": [
    {
     "name": "stdout",
     "output_type": "stream",
     "text": [
      "This function  greerts to the\n",
      "    person passed in as parameter\n"
     ]
    }
   ],
   "source": [
    "print(greets.__doc__)"
   ]
  },
  {
   "cell_type": "code",
   "execution_count": 13,
   "id": "70d235a2",
   "metadata": {},
   "outputs": [
    {
     "name": "stdout",
     "output_type": "stream",
     "text": [
      "4\n"
     ]
    }
   ],
   "source": [
    "def absolute_value(num):\n",
    "    \"\"\"this function return the absolute value of the entered number\"\"\"\n",
    "    if num>=0:\n",
    "        return num\n",
    "    else:\n",
    "        return -num\n",
    "print(absolute_value(2))\n",
    "print(absolute_value(-4))"
   ]
  },
  {
   "cell_type": "code",
   "execution_count": 7,
   "id": "0bfcc5b8",
   "metadata": {},
   "outputs": [
    {
     "name": "stdout",
     "output_type": "stream",
     "text": [
      "value inside function: 10\n",
      "value outside function: 20\n"
     ]
    }
   ],
   "source": [
    "def my_func():\n",
    "    x=10\n",
    "    print(\"value inside function:\",x)\n",
    "x=20\n",
    "my_func()\n",
    "print(\"value outside function:\",x)"
   ]
  },
  {
   "cell_type": "code",
   "execution_count": 8,
   "id": "380d0a59",
   "metadata": {},
   "outputs": [
    {
     "name": "stdout",
     "output_type": "stream",
     "text": [
      "the sum is 11\n"
     ]
    }
   ],
   "source": [
    "def add_numbers(x,y):\n",
    "    sum=x+y\n",
    "    return sum\n",
    "num1=5\n",
    "num2=6\n",
    "print(\"the sum is\",add_numbers(num1,num2))"
   ]
  },
  {
   "cell_type": "code",
   "execution_count": 77,
   "id": "dd41e3d0",
   "metadata": {},
   "outputs": [
    {
     "name": "stdout",
     "output_type": "stream",
     "text": [
      "Hello Monica,Good morning!\n"
     ]
    }
   ],
   "source": [
    "def greet(name,msg):\n",
    "    \"\"\"this function greets to the person with the provide msg\"\"\"\n",
    "    print(\"Hello\",name + ',' + msg)\n",
    "greet(\"Monica\",\"Good morning!\")"
   ]
  },
  {
   "cell_type": "code",
   "execution_count": 1,
   "id": "cbbe6851",
   "metadata": {},
   "outputs": [
    {
     "name": "stdout",
     "output_type": "stream",
     "text": [
      "Hello Kate,Good evening!\n",
      "Hello Bruce,How do you do?\n"
     ]
    }
   ],
   "source": [
    "def greets(name,msg=\"Good evening!\"):\n",
    "    \"\"\"this function greets to the person with the provided message.\n",
    "    if the message is not provided,it defaults to \"good morning\"\"\"\n",
    "    print(\"Hello\",name + ',' + msg)\n",
    "greets(\"Kate\")\n",
    "greets(\"Bruce\",\"How do you do?\")"
   ]
  },
  {
   "cell_type": "code",
   "execution_count": 16,
   "id": "5737eae7",
   "metadata": {},
   "outputs": [
    {
     "name": "stdout",
     "output_type": "stream",
     "text": [
      "Hello Good evening,Bruce\n"
     ]
    }
   ],
   "source": [
    "def greets(msg=\"Good evening\",name=\"bruce\" ):\n",
    "    \"\"\"this function greets to the person with the provided message.\n",
    "    if the message is not provided,it defaults to \"good morning\"\"\"\n",
    "    print(\"Hello\",name + ',' + msg)\n",
    "greets(\"Bruce\",\"Good evening\")"
   ]
  },
  {
   "cell_type": "code",
   "execution_count": 20,
   "id": "036848d6",
   "metadata": {},
   "outputs": [
    {
     "ename": "SyntaxError",
     "evalue": "non-default argument follows default argument (4092665200.py, line 1)",
     "output_type": "error",
     "traceback": [
      "\u001b[1;36m  Input \u001b[1;32mIn [20]\u001b[1;36m\u001b[0m\n\u001b[1;33m    def greets(msg=\"good evening\",name ):\u001b[0m\n\u001b[1;37m                                       ^\u001b[0m\n\u001b[1;31mSyntaxError\u001b[0m\u001b[1;31m:\u001b[0m non-default argument follows default argument\n"
     ]
    }
   ],
   "source": [
    "def greets(msg=\"good evening\",name ):\n",
    "    \"\"\"this function greets to the person with the provided message.\n",
    "    if the message is not provided,it defaults to \"good morning\"\"\"\n",
    "    print(\"hello\",name + ',' + msg)\n",
    "greets(\"bruce\",\"good evening\")"
   ]
  },
  {
   "cell_type": "code",
   "execution_count": 27,
   "id": "ebba7afe",
   "metadata": {},
   "outputs": [
    {
     "name": "stdout",
     "output_type": "stream",
     "text": [
      "The sum of first 5 numbers is 15\n"
     ]
    }
   ],
   "source": [
    "def sum(x):\n",
    "    \"\"\"This is a recursive function\n",
    "    to find the sum of consecutive numbers \"\"\"\n",
    "\n",
    "    if x == 1:\n",
    "        return 1\n",
    "    else:\n",
    "        return (x + sum(x-1))\n",
    "\n",
    "\n",
    "num = 5\n",
    "print(\"The sum of first\", num, \"numbers is\", sum(num))"
   ]
  },
  {
   "cell_type": "code",
   "execution_count": 26,
   "id": "f36695db",
   "metadata": {},
   "outputs": [
    {
     "name": "stdout",
     "output_type": "stream",
     "text": [
      "The factorial of 4 is 24\n"
     ]
    }
   ],
   "source": [
    "def factorial(x):\n",
    "    \"\"\"This is a recursive function\n",
    "    to find the factorial of an integer\"\"\"\n",
    "\n",
    "    if x == 1:\n",
    "        return 1\n",
    "    else:\n",
    "        return (x * factorial(x-1))\n",
    "\n",
    "\n",
    "num = 4\n",
    "print(\"The factorial of\", num, \"is\", factorial(num))"
   ]
  },
  {
   "cell_type": "code",
   "execution_count": 17,
   "id": "da874d8a",
   "metadata": {},
   "outputs": [
    {
     "name": "stdout",
     "output_type": "stream",
     "text": [
      "5.0\n",
      "10.0\n"
     ]
    }
   ],
   "source": [
    "divide=lambda x:x/2\n",
    "print(divide(10))\n",
    "print(divide(20))"
   ]
  },
  {
   "cell_type": "code",
   "execution_count": 33,
   "id": "83d49daf",
   "metadata": {},
   "outputs": [
    {
     "name": "stdout",
     "output_type": "stream",
     "text": [
      "5.0\n"
     ]
    }
   ],
   "source": [
    "def divide(y):\n",
    "    return y/2\n",
    "print(divide(10))"
   ]
  },
  {
   "cell_type": "code",
   "execution_count": 19,
   "id": "3f3a5d42",
   "metadata": {},
   "outputs": [
    {
     "name": "stdout",
     "output_type": "stream",
     "text": [
      "[1, 4, 9, 16, 25]\n"
     ]
    }
   ],
   "source": [
    "my_list=[1,2,3,4,5]\n",
    "new_list=list(map(lambda x:x**2,my_list))\n",
    "print(new_list)"
   ]
  },
  {
   "cell_type": "code",
   "execution_count": 20,
   "id": "fb7ddd33",
   "metadata": {},
   "outputs": [
    {
     "name": "stdout",
     "output_type": "stream",
     "text": [
      "[1, 3, 5, 7, 9]\n"
     ]
    }
   ],
   "source": [
    "a_list=[1,2,3,4,5,6,7,8,9,10]\n",
    "b_list=list(filter(lambda x:(x%2)-1==0,a_list))\n",
    "print(b_list)"
   ]
  },
  {
   "cell_type": "code",
   "execution_count": 21,
   "id": "8b37b3af",
   "metadata": {},
   "outputs": [
    {
     "name": "stdout",
     "output_type": "stream",
     "text": [
      "[2, 4, 6, 8, 10]\n"
     ]
    }
   ],
   "source": [
    "a_list=[1,2,3,4,5,6,7,8,9,10]\n",
    "b_list=list(filter(lambda x:(x%2)==0,a_list))\n",
    "print(b_list)"
   ]
  },
  {
   "cell_type": "code",
   "execution_count": 22,
   "id": "c92ec5af",
   "metadata": {},
   "outputs": [
    {
     "name": "stdout",
     "output_type": "stream",
     "text": [
      "[2, 4, 6, 8, 10, 12, 14, 16, 18, 20]\n"
     ]
    }
   ],
   "source": [
    "a_list=[1,2,3,4,5,6,7,8,9,10]\n",
    "b_list=list(map(lambda x:(x*2),a_list))\n",
    "print(b_list)"
   ]
  },
  {
   "cell_type": "code",
   "execution_count": 62,
   "id": "7a53e275",
   "metadata": {},
   "outputs": [
    {
     "name": "stdout",
     "output_type": "stream",
     "text": [
      "x inside: global\n",
      "x outside: global\n"
     ]
    }
   ],
   "source": [
    "x=\"global\"\n",
    "def foo():\n",
    "    print(\"x inside:\",x)\n",
    "foo()\n",
    "print(\"x outside:\",x)"
   ]
  },
  {
   "cell_type": "code",
   "execution_count": 37,
   "id": "36b8730f",
   "metadata": {},
   "outputs": [
    {
     "ename": "UnboundLocalError",
     "evalue": "local variable 'x' referenced before assignment",
     "output_type": "error",
     "traceback": [
      "\u001b[1;31m---------------------------------------------------------------------------\u001b[0m",
      "\u001b[1;31mUnboundLocalError\u001b[0m                         Traceback (most recent call last)",
      "Input \u001b[1;32mIn [37]\u001b[0m, in \u001b[0;36m<cell line: 5>\u001b[1;34m()\u001b[0m\n\u001b[0;32m      3\u001b[0m     x\u001b[38;5;241m=\u001b[39mx\u001b[38;5;241m*\u001b[39m\u001b[38;5;241m2\u001b[39m\n\u001b[0;32m      4\u001b[0m     \u001b[38;5;28mprint\u001b[39m(x)\n\u001b[1;32m----> 5\u001b[0m \u001b[43mfoo\u001b[49m\u001b[43m(\u001b[49m\u001b[43m)\u001b[49m\n",
      "Input \u001b[1;32mIn [37]\u001b[0m, in \u001b[0;36mfoo\u001b[1;34m()\u001b[0m\n\u001b[0;32m      2\u001b[0m \u001b[38;5;28;01mdef\u001b[39;00m \u001b[38;5;21mfoo\u001b[39m():\n\u001b[1;32m----> 3\u001b[0m     x\u001b[38;5;241m=\u001b[39m\u001b[43mx\u001b[49m\u001b[38;5;241m*\u001b[39m\u001b[38;5;241m2\u001b[39m\n\u001b[0;32m      4\u001b[0m     \u001b[38;5;28mprint\u001b[39m(x)\n",
      "\u001b[1;31mUnboundLocalError\u001b[0m: local variable 'x' referenced before assignment"
     ]
    }
   ],
   "source": [
    "x=\"global\"\n",
    "def foo():\n",
    "    x=x*2\n",
    "    print(x)\n",
    "foo()"
   ]
  },
  {
   "cell_type": "code",
   "execution_count": 40,
   "id": "499c8c69",
   "metadata": {},
   "outputs": [
    {
     "ename": "UnboundLocalError",
     "evalue": "local variable 'c' referenced before assignment",
     "output_type": "error",
     "traceback": [
      "\u001b[1;31m---------------------------------------------------------------------------\u001b[0m",
      "\u001b[1;31mUnboundLocalError\u001b[0m                         Traceback (most recent call last)",
      "Input \u001b[1;32mIn [40]\u001b[0m, in \u001b[0;36m<cell line: 5>\u001b[1;34m()\u001b[0m\n\u001b[0;32m      3\u001b[0m     c\u001b[38;5;241m=\u001b[39mc\u001b[38;5;241m+\u001b[39m\u001b[38;5;241m2\u001b[39m\n\u001b[0;32m      4\u001b[0m     \u001b[38;5;28mprint\u001b[39m(c)\n\u001b[1;32m----> 5\u001b[0m \u001b[43madd\u001b[49m\u001b[43m(\u001b[49m\u001b[43m)\u001b[49m\n",
      "Input \u001b[1;32mIn [40]\u001b[0m, in \u001b[0;36madd\u001b[1;34m()\u001b[0m\n\u001b[0;32m      2\u001b[0m \u001b[38;5;28;01mdef\u001b[39;00m \u001b[38;5;21madd\u001b[39m():\n\u001b[1;32m----> 3\u001b[0m     c\u001b[38;5;241m=\u001b[39m\u001b[43mc\u001b[49m\u001b[38;5;241m+\u001b[39m\u001b[38;5;241m2\u001b[39m\n\u001b[0;32m      4\u001b[0m     \u001b[38;5;28mprint\u001b[39m(c)\n",
      "\u001b[1;31mUnboundLocalError\u001b[0m: local variable 'c' referenced before assignment"
     ]
    }
   ],
   "source": [
    "c=1\n",
    "def add():\n",
    "    c=c+2\n",
    "    print(c)\n",
    "add()"
   ]
  },
  {
   "cell_type": "code",
   "execution_count": 47,
   "id": "847130b5",
   "metadata": {},
   "outputs": [
    {
     "name": "stdout",
     "output_type": "stream",
     "text": [
      "Inside add(): 2\n",
      "In main: 2\n"
     ]
    }
   ],
   "source": [
    "c=0\n",
    "def add():\n",
    "    global c\n",
    "    c=c+2\n",
    "    print(\"Inside add():\",c)\n",
    "add()\n",
    "print(\"In main:\",c)\n"
   ]
  },
  {
   "cell_type": "code",
   "execution_count": 6,
   "id": "9b5f625d",
   "metadata": {},
   "outputs": [
    {
     "ename": "NameError",
     "evalue": "name 'y' is not defined",
     "output_type": "error",
     "traceback": [
      "\u001b[1;31m---------------------------------------------------------------------------\u001b[0m",
      "\u001b[1;31mNameError\u001b[0m                                 Traceback (most recent call last)",
      "Input \u001b[1;32mIn [6]\u001b[0m, in \u001b[0;36m<cell line: 4>\u001b[1;34m()\u001b[0m\n\u001b[0;32m      2\u001b[0m     y\u001b[38;5;241m=\u001b[39m\u001b[38;5;124m\"\u001b[39m\u001b[38;5;124mlocal\u001b[39m\u001b[38;5;124m\"\u001b[39m\n\u001b[0;32m      3\u001b[0m foo()\n\u001b[1;32m----> 4\u001b[0m \u001b[38;5;28mprint\u001b[39m(\u001b[43my\u001b[49m)\n",
      "\u001b[1;31mNameError\u001b[0m: name 'y' is not defined"
     ]
    }
   ],
   "source": [
    "def foo():\n",
    "    y=\"local\"\n",
    "foo()\n",
    "print(y)\n"
   ]
  },
  {
   "cell_type": "code",
   "execution_count": 33,
   "id": "83402f22",
   "metadata": {},
   "outputs": [
    {
     "name": "stdout",
     "output_type": "stream",
     "text": [
      "local\n"
     ]
    }
   ],
   "source": [
    "def foo():\n",
    "    y=\"local\"\n",
    "    print(y)\n",
    "foo()"
   ]
  },
  {
   "cell_type": "code",
   "execution_count": 51,
   "id": "2c470903",
   "metadata": {},
   "outputs": [
    {
     "name": "stdout",
     "output_type": "stream",
     "text": [
      "local\n",
      "globalglobal\n"
     ]
    }
   ],
   "source": [
    "x=\"global\"\n",
    "def foo():\n",
    "    global x\n",
    "    y=\"local\"\n",
    "    x=x*2\n",
    "    print(y)\n",
    "    print(x)\n",
    "foo()"
   ]
  },
  {
   "cell_type": "code",
   "execution_count": 42,
   "id": "1c60d2d0",
   "metadata": {},
   "outputs": [
    {
     "name": "stdout",
     "output_type": "stream",
     "text": [
      "local x: 10\n",
      "global x: 5\n"
     ]
    }
   ],
   "source": [
    "x=5\n",
    "def foo():\n",
    "    x=10\n",
    "    print(\"local x:\",x)\n",
    "foo()\n",
    "print(\"global x:\",x)"
   ]
  },
  {
   "cell_type": "code",
   "execution_count": 55,
   "id": "1af2008c",
   "metadata": {},
   "outputs": [
    {
     "name": "stdout",
     "output_type": "stream",
     "text": [
      "10\n"
     ]
    }
   ],
   "source": [
    "def add(a,b):\n",
    "    \"\"\"this program add two numbers\n",
    "    and return the result \"\"\"\n",
    "    result=a+b\n",
    "    return result\n",
    "print(add(7,3))"
   ]
  },
  {
   "cell_type": "code",
   "execution_count": 71,
   "id": "0974c923",
   "metadata": {},
   "outputs": [
    {
     "name": "stdout",
     "output_type": "stream",
     "text": [
      "The value of pi is  3.141592653589793\n"
     ]
    }
   ],
   "source": [
    "import math\n",
    "print(\"The value of pi is \",math.pi)"
   ]
  },
  {
   "cell_type": "code",
   "execution_count": 51,
   "id": "1c1c4a81",
   "metadata": {},
   "outputs": [
    {
     "name": "stdout",
     "output_type": "stream",
     "text": [
      "The value of pi is 3.141592653589793\n"
     ]
    }
   ],
   "source": [
    "import math as m\n",
    "print(\"The value of pi is\",m.pi)"
   ]
  },
  {
   "cell_type": "code",
   "execution_count": 54,
   "id": "75f12c86",
   "metadata": {},
   "outputs": [
    {
     "name": "stdout",
     "output_type": "stream",
     "text": [
      "The value of pi is 3.141592653589793\n"
     ]
    }
   ],
   "source": [
    "from math import pi\n",
    "print(\"The value of pi is\",pi)"
   ]
  },
  {
   "cell_type": "code",
   "execution_count": 82,
   "id": "990974f3",
   "metadata": {},
   "outputs": [
    {
     "name": "stdout",
     "output_type": "stream",
     "text": [
      "The value of pi is 3.141592653589793\n"
     ]
    }
   ],
   "source": [
    "from math import *\n",
    "print(\"The value of pi is\",pi)"
   ]
  },
  {
   "cell_type": "code",
   "execution_count": null,
   "id": "43cae788",
   "metadata": {},
   "outputs": [],
   "source": []
  },
  {
   "cell_type": "code",
   "execution_count": null,
   "id": "ada1ee9f",
   "metadata": {},
   "outputs": [],
   "source": []
  }
 ],
 "metadata": {
  "kernelspec": {
   "display_name": "Python 3 (ipykernel)",
   "language": "python",
   "name": "python3"
  },
  "language_info": {
   "codemirror_mode": {
    "name": "ipython",
    "version": 3
   },
   "file_extension": ".py",
   "mimetype": "text/x-python",
   "name": "python",
   "nbconvert_exporter": "python",
   "pygments_lexer": "ipython3",
   "version": "3.9.12"
  }
 },
 "nbformat": 4,
 "nbformat_minor": 5
}
