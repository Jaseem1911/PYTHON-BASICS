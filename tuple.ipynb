{
 "cells": [
  {
   "cell_type": "code",
   "execution_count": 3,
   "id": "98904a2d",
   "metadata": {},
   "outputs": [
    {
     "data": {
      "text/plain": [
       "20"
      ]
     },
     "execution_count": 3,
     "metadata": {},
     "output_type": "execute_result"
    }
   ],
   "source": [
    "t=(20)\n",
    "t"
   ]
  },
  {
   "cell_type": "code",
   "execution_count": 2,
   "id": "21771247",
   "metadata": {},
   "outputs": [
    {
     "data": {
      "text/plain": [
       "(5,)"
      ]
     },
     "execution_count": 2,
     "metadata": {},
     "output_type": "execute_result"
    }
   ],
   "source": [
    "t=5,\n",
    "t"
   ]
  },
  {
   "cell_type": "code",
   "execution_count": 4,
   "id": "c3847ea4",
   "metadata": {},
   "outputs": [
    {
     "data": {
      "text/plain": [
       "(100,)"
      ]
     },
     "execution_count": 4,
     "metadata": {},
     "output_type": "execute_result"
    }
   ],
   "source": [
    "t=(100,)\n",
    "t"
   ]
  },
  {
   "cell_type": "code",
   "execution_count": 5,
   "id": "1fa2b0f5",
   "metadata": {},
   "outputs": [
    {
     "data": {
      "text/plain": [
       "10"
      ]
     },
     "execution_count": 5,
     "metadata": {},
     "output_type": "execute_result"
    }
   ],
   "source": [
    "roots=(91,2,3,4,5,6,7,8,9,10)\n",
    "len(roots)"
   ]
  },
  {
   "cell_type": "code",
   "execution_count": 7,
   "id": "ceff12ba",
   "metadata": {},
   "outputs": [
    {
     "data": {
      "text/plain": [
       "20"
      ]
     },
     "execution_count": 7,
     "metadata": {},
     "output_type": "execute_result"
    }
   ],
   "source": [
    "t1=(10,20,30,(40,50,60),100)\n",
    "t1[1]\n"
   ]
  },
  {
   "cell_type": "code",
   "execution_count": 8,
   "id": "935e1f21",
   "metadata": {},
   "outputs": [
    {
     "data": {
      "text/plain": [
       "50"
      ]
     },
     "execution_count": 8,
     "metadata": {},
     "output_type": "execute_result"
    }
   ],
   "source": [
    "t1[3][1]"
   ]
  },
  {
   "cell_type": "code",
   "execution_count": 9,
   "id": "b7fec2bd",
   "metadata": {},
   "outputs": [
    {
     "data": {
      "text/plain": [
       "('p', 'y', 't', 'h', 'o', 'n')"
      ]
     },
     "execution_count": 9,
     "metadata": {},
     "output_type": "execute_result"
    }
   ],
   "source": [
    "t=tuple('python')\n",
    "t"
   ]
  },
  {
   "cell_type": "code",
   "execution_count": 10,
   "id": "7364fb6d",
   "metadata": {},
   "outputs": [
    {
     "data": {
      "text/plain": [
       "(100, 200, 300, 400)"
      ]
     },
     "execution_count": 10,
     "metadata": {},
     "output_type": "execute_result"
    }
   ],
   "source": [
    "items=[100,200,300,400]\n",
    "t2=tuple(items)\n",
    "t2"
   ]
  },
  {
   "cell_type": "code",
   "execution_count": 12,
   "id": "e6bc51c1",
   "metadata": {},
   "outputs": [
    {
     "name": "stdout",
     "output_type": "stream",
     "text": [
      "enter elementsabcde\n"
     ]
    }
   ],
   "source": [
    "t1=tuple(input(\"enter elements\"))\n"
   ]
  },
  {
   "cell_type": "code",
   "execution_count": 13,
   "id": "a247634f",
   "metadata": {},
   "outputs": [
    {
     "data": {
      "text/plain": [
       "('a', 'b', 'c', 'd', 'e')"
      ]
     },
     "execution_count": 13,
     "metadata": {},
     "output_type": "execute_result"
    }
   ],
   "source": [
    "t1"
   ]
  },
  {
   "cell_type": "code",
   "execution_count": 15,
   "id": "502ba08f",
   "metadata": {},
   "outputs": [
    {
     "name": "stdout",
     "output_type": "stream",
     "text": [
      "enter tuple elements(10,'ravi',10.5)\n"
     ]
    }
   ],
   "source": [
    "mytuple=eval(input(\"enter tuple elements\"))\n"
   ]
  },
  {
   "cell_type": "code",
   "execution_count": 16,
   "id": "620a3bdd",
   "metadata": {},
   "outputs": [
    {
     "data": {
      "text/plain": [
       "(10, 'ravi', 10.5)"
      ]
     },
     "execution_count": 16,
     "metadata": {},
     "output_type": "execute_result"
    }
   ],
   "source": [
    "mytuple"
   ]
  },
  {
   "cell_type": "code",
   "execution_count": 23,
   "id": "a7e28306",
   "metadata": {},
   "outputs": [
    {
     "name": "stdout",
     "output_type": "stream",
     "text": [
      "B.A\n",
      "M.A\n",
      "B.Sc\n",
      "M.Sc\n",
      "B.Com\n"
     ]
    }
   ],
   "source": [
    "qualifications=(\"B.A\",\"M.A\",\"B.Sc\",\"M.Sc\",\"B.Com\")\n",
    "for q in qualifications:\n",
    "    print(q)"
   ]
  },
  {
   "cell_type": "code",
   "execution_count": 24,
   "id": "7c56a6fd",
   "metadata": {},
   "outputs": [
    {
     "name": "stdout",
     "output_type": "stream",
     "text": [
      "index: 0  B.A\n",
      "index: 1  M.A\n",
      "index: 2  B.Sc\n",
      "index: 3  M.Sc\n",
      "index: 4  B.Com\n"
     ]
    }
   ],
   "source": [
    "qualifications=(\"B.A\",\"M.A\",\"B.Sc\",\"M.Sc\",\"B.Com\")\n",
    "for i in range(len(qualifications)):\n",
    "    print(\"index:\",i,'',qualifications[i])"
   ]
  },
  {
   "cell_type": "code",
   "execution_count": 26,
   "id": "7b2c5cf0",
   "metadata": {},
   "outputs": [
    {
     "data": {
      "text/plain": [
       "(10, 20, 30, 'a', 'b', 'c')"
      ]
     },
     "execution_count": 26,
     "metadata": {},
     "output_type": "execute_result"
    }
   ],
   "source": [
    "t1=(10,20,30)\n",
    "t2=('a','b','c')\n",
    "t3=t1+t2\n",
    "t3"
   ]
  },
  {
   "cell_type": "code",
   "execution_count": 27,
   "id": "adbee36e",
   "metadata": {},
   "outputs": [
    {
     "ename": "TypeError",
     "evalue": "can only concatenate tuple (not \"int\") to tuple",
     "output_type": "error",
     "traceback": [
      "\u001b[1;31m---------------------------------------------------------------------------\u001b[0m",
      "\u001b[1;31mTypeError\u001b[0m                                 Traceback (most recent call last)",
      "Input \u001b[1;32mIn [27]\u001b[0m, in \u001b[0;36m<cell line: 1>\u001b[1;34m()\u001b[0m\n\u001b[1;32m----> 1\u001b[0m \u001b[43mt1\u001b[49m\u001b[38;5;241;43m+\u001b[39;49m\u001b[43m(\u001b[49m\u001b[38;5;241;43m20\u001b[39;49m\u001b[43m)\u001b[49m\n",
      "\u001b[1;31mTypeError\u001b[0m: can only concatenate tuple (not \"int\") to tuple"
     ]
    }
   ],
   "source": [
    "t1+(20)"
   ]
  },
  {
   "cell_type": "code",
   "execution_count": 28,
   "id": "b26f5356",
   "metadata": {},
   "outputs": [
    {
     "ename": "TypeError",
     "evalue": "can only concatenate tuple (not \"int\") to tuple",
     "output_type": "error",
     "traceback": [
      "\u001b[1;31m---------------------------------------------------------------------------\u001b[0m",
      "\u001b[1;31mTypeError\u001b[0m                                 Traceback (most recent call last)",
      "Input \u001b[1;32mIn [28]\u001b[0m, in \u001b[0;36m<cell line: 1>\u001b[1;34m()\u001b[0m\n\u001b[1;32m----> 1\u001b[0m \u001b[43mt1\u001b[49m\u001b[38;5;241;43m+\u001b[39;49m\u001b[38;5;241;43m20\u001b[39;49m\n",
      "\u001b[1;31mTypeError\u001b[0m: can only concatenate tuple (not \"int\") to tuple"
     ]
    }
   ],
   "source": [
    "t1+20"
   ]
  },
  {
   "cell_type": "code",
   "execution_count": 29,
   "id": "46b3ef0d",
   "metadata": {},
   "outputs": [
    {
     "data": {
      "text/plain": [
       "(10, 20, 30, 50)"
      ]
     },
     "execution_count": 29,
     "metadata": {},
     "output_type": "execute_result"
    }
   ],
   "source": [
    "t1=(10,20,30)\n",
    "t1+(50,)"
   ]
  },
  {
   "cell_type": "code",
   "execution_count": 35,
   "id": "be85057a",
   "metadata": {},
   "outputs": [
    {
     "data": {
      "text/plain": [
       "('do', 'it', 'do', 'it', 'do', 'it')"
      ]
     },
     "execution_count": 35,
     "metadata": {},
     "output_type": "execute_result"
    }
   ],
   "source": [
    "t1=(\"do\",\"it\")\n",
    "t1*3"
   ]
  },
  {
   "cell_type": "code",
   "execution_count": 36,
   "id": "52d9fc7c",
   "metadata": {},
   "outputs": [
    {
     "name": "stdout",
     "output_type": "stream",
     "text": [
      "(7, 9)\n"
     ]
    }
   ],
   "source": [
    "data=(10,20,30,1,7,9,100,51,75,80)\n",
    "data2=data[4:-4]\n",
    "print(data2)"
   ]
  },
  {
   "cell_type": "code",
   "execution_count": 37,
   "id": "cbc175a6",
   "metadata": {},
   "outputs": [
    {
     "name": "stdout",
     "output_type": "stream",
     "text": [
      "(20, 30, 1, 7, 9)\n",
      "(7, 9, 100, 51)\n",
      "(10, 20, 30, 1)\n",
      "(80, 75, 51, 100, 9, 7, 1, 30, 20, 10)\n",
      "(80, 51, 9, 1, 20)\n",
      "(30, 7, 100, 75)\n"
     ]
    }
   ],
   "source": [
    "data=(10,20,30,1,7,9,100,51,75,80)\n",
    "print(data[1:6])\n",
    "print(data[4:-2])\n",
    "print(data[0:4])\n",
    "print(data[::-1])\n",
    "print(data[::-2])\n",
    "print(data[2:10:2])"
   ]
  },
  {
   "cell_type": "code",
   "execution_count": 43,
   "id": "5e4dcc89",
   "metadata": {},
   "outputs": [
    {
     "data": {
      "text/plain": [
       "(15, 20, 8, 15, 20, 8, 15, 20, 8)"
      ]
     },
     "execution_count": 43,
     "metadata": {},
     "output_type": "execute_result"
    }
   ],
   "source": [
    "tp1=(11,12,15,20,8,9,10)\n",
    "tp1[2:5]*3"
   ]
  },
  {
   "cell_type": "code",
   "execution_count": 44,
   "id": "5905d58e",
   "metadata": {},
   "outputs": [
    {
     "data": {
      "text/plain": [
       "(15, 20, 8, 500, 1000)"
      ]
     },
     "execution_count": 44,
     "metadata": {},
     "output_type": "execute_result"
    }
   ],
   "source": [
    "tp1[2:5]+(500,1000)"
   ]
  },
  {
   "cell_type": "code",
   "execution_count": 46,
   "id": "fc9308b2",
   "metadata": {},
   "outputs": [
    {
     "data": {
      "text/plain": [
       "True"
      ]
     },
     "execution_count": 46,
     "metadata": {},
     "output_type": "execute_result"
    }
   ],
   "source": [
    "a=(10,20)\n",
    "b=(10,20)\n",
    "c=(20,10)\n",
    "a==b\n"
   ]
  },
  {
   "cell_type": "code",
   "execution_count": 47,
   "id": "a9a02c26",
   "metadata": {},
   "outputs": [
    {
     "data": {
      "text/plain": [
       "False"
      ]
     },
     "execution_count": 47,
     "metadata": {},
     "output_type": "execute_result"
    }
   ],
   "source": [
    "a=(10,20)\n",
    "b=(10,20)\n",
    "c=(20,10)\n",
    "a==c"
   ]
  },
  {
   "cell_type": "code",
   "execution_count": 48,
   "id": "716d4456",
   "metadata": {},
   "outputs": [
    {
     "data": {
      "text/plain": [
       "True"
      ]
     },
     "execution_count": 48,
     "metadata": {},
     "output_type": "execute_result"
    }
   ],
   "source": [
    "a=(10,20)\n",
    "b=(10,20)\n",
    "c=(20,10)\n",
    "d=(20.0,10.0)\n",
    "c==d"
   ]
  },
  {
   "cell_type": "code",
   "execution_count": 49,
   "id": "53cdfbb3",
   "metadata": {},
   "outputs": [
    {
     "data": {
      "text/plain": [
       "True"
      ]
     },
     "execution_count": 49,
     "metadata": {},
     "output_type": "execute_result"
    }
   ],
   "source": [
    "a=(10,20)\n",
    "b=(10,20)\n",
    "c=(20,10)\n",
    "a<c"
   ]
  },
  {
   "cell_type": "code",
   "execution_count": 51,
   "id": "1367d242",
   "metadata": {},
   "outputs": [
    {
     "ename": "TypeError",
     "evalue": "'tuple' object doesn't support item deletion",
     "output_type": "error",
     "traceback": [
      "\u001b[1;31m---------------------------------------------------------------------------\u001b[0m",
      "\u001b[1;31mTypeError\u001b[0m                                 Traceback (most recent call last)",
      "Input \u001b[1;32mIn [51]\u001b[0m, in \u001b[0;36m<cell line: 2>\u001b[1;34m()\u001b[0m\n\u001b[0;32m      1\u001b[0m t1\u001b[38;5;241m=\u001b[39m(\u001b[38;5;241m10\u001b[39m,\u001b[38;5;241m20\u001b[39m,\u001b[38;5;241m30\u001b[39m)\n\u001b[1;32m----> 2\u001b[0m \u001b[38;5;28;01mdel\u001b[39;00m t1[\u001b[38;5;241m2\u001b[39m]\n",
      "\u001b[1;31mTypeError\u001b[0m: 'tuple' object doesn't support item deletion"
     ]
    }
   ],
   "source": [
    "t1=(10,20,30)\n",
    "del t1[2]"
   ]
  },
  {
   "cell_type": "code",
   "execution_count": 53,
   "id": "4cb24727",
   "metadata": {},
   "outputs": [
    {
     "ename": "NameError",
     "evalue": "name 't1' is not defined",
     "output_type": "error",
     "traceback": [
      "\u001b[1;31m---------------------------------------------------------------------------\u001b[0m",
      "\u001b[1;31mNameError\u001b[0m                                 Traceback (most recent call last)",
      "Input \u001b[1;32mIn [53]\u001b[0m, in \u001b[0;36m<cell line: 3>\u001b[1;34m()\u001b[0m\n\u001b[0;32m      1\u001b[0m t1\u001b[38;5;241m=\u001b[39m(\u001b[38;5;241m10\u001b[39m,\u001b[38;5;241m20\u001b[39m,\u001b[38;5;241m30\u001b[39m)\n\u001b[0;32m      2\u001b[0m \u001b[38;5;28;01mdel\u001b[39;00m t1\n\u001b[1;32m----> 3\u001b[0m \u001b[38;5;28mprint\u001b[39m(\u001b[43mt1\u001b[49m)\n",
      "\u001b[1;31mNameError\u001b[0m: name 't1' is not defined"
     ]
    }
   ],
   "source": [
    "t1=(10,20,30)\n",
    "del t1\n",
    "print(t1)"
   ]
  },
  {
   "cell_type": "code",
   "execution_count": 54,
   "id": "945a65b6",
   "metadata": {},
   "outputs": [
    {
     "data": {
      "text/plain": [
       "4"
      ]
     },
     "execution_count": 54,
     "metadata": {},
     "output_type": "execute_result"
    }
   ],
   "source": [
    "book=('BOOK','let us python','DP',500)\n",
    "len(book)"
   ]
  },
  {
   "cell_type": "code",
   "execution_count": 2,
   "id": "ffb80c9d",
   "metadata": {},
   "outputs": [
    {
     "data": {
      "text/plain": [
       "1500"
      ]
     },
     "execution_count": 2,
     "metadata": {},
     "output_type": "execute_result"
    }
   ],
   "source": [
    "salary=(1000,1500,800,700,1200)\n",
    "max(salary)"
   ]
  },
  {
   "cell_type": "code",
   "execution_count": 56,
   "id": "914c3ee1",
   "metadata": {},
   "outputs": [
    {
     "data": {
      "text/plain": [
       "'pine apple'"
      ]
     },
     "execution_count": 56,
     "metadata": {},
     "output_type": "execute_result"
    }
   ],
   "source": [
    "fruits=(\"mango\",\"apple\",\"pine apple\",\"guava\")\n",
    "max(fruits)"
   ]
  },
  {
   "cell_type": "code",
   "execution_count": 57,
   "id": "56653eb3",
   "metadata": {},
   "outputs": [
    {
     "ename": "TypeError",
     "evalue": "'>' not supported between instances of 'tuple' and 'int'",
     "output_type": "error",
     "traceback": [
      "\u001b[1;31m---------------------------------------------------------------------------\u001b[0m",
      "\u001b[1;31mTypeError\u001b[0m                                 Traceback (most recent call last)",
      "Input \u001b[1;32mIn [57]\u001b[0m, in \u001b[0;36m<cell line: 2>\u001b[1;34m()\u001b[0m\n\u001b[0;32m      1\u001b[0m t1\u001b[38;5;241m=\u001b[39m(\u001b[38;5;241m10\u001b[39m,\u001b[38;5;241m20\u001b[39m,\u001b[38;5;241m30\u001b[39m,(\u001b[38;5;241m40\u001b[39m,\u001b[38;5;241m50\u001b[39m,\u001b[38;5;241m60\u001b[39m),\u001b[38;5;241m70\u001b[39m)\n\u001b[1;32m----> 2\u001b[0m \u001b[38;5;28;43mmax\u001b[39;49m\u001b[43m(\u001b[49m\u001b[43mt1\u001b[49m\u001b[43m)\u001b[49m\n",
      "\u001b[1;31mTypeError\u001b[0m: '>' not supported between instances of 'tuple' and 'int'"
     ]
    }
   ],
   "source": [
    "t1=(10,20,30,(40,50,60),70)\n",
    "max(t1)"
   ]
  },
  {
   "cell_type": "code",
   "execution_count": 59,
   "id": "419b85ba",
   "metadata": {},
   "outputs": [
    {
     "data": {
      "text/plain": [
       "700"
      ]
     },
     "execution_count": 59,
     "metadata": {},
     "output_type": "execute_result"
    }
   ],
   "source": [
    "salary=(1000,1500,800,700,1200)\n",
    "min(salary)"
   ]
  },
  {
   "cell_type": "code",
   "execution_count": 60,
   "id": "be66da2e",
   "metadata": {},
   "outputs": [
    {
     "data": {
      "text/plain": [
       "'apple'"
      ]
     },
     "execution_count": 60,
     "metadata": {},
     "output_type": "execute_result"
    }
   ],
   "source": [
    "fruits=(\"mango\",\"apple\",\"pine apple\",\"guava\")\n",
    "min(fruits)"
   ]
  },
  {
   "cell_type": "code",
   "execution_count": 61,
   "id": "3a1264d0",
   "metadata": {},
   "outputs": [
    {
     "data": {
      "text/plain": [
       "2"
      ]
     },
     "execution_count": 61,
     "metadata": {},
     "output_type": "execute_result"
    }
   ],
   "source": [
    "salary=(1000,1500,800,700,1200)\n",
    "salary.index(800)"
   ]
  },
  {
   "cell_type": "code",
   "execution_count": 62,
   "id": "1069a92f",
   "metadata": {},
   "outputs": [
    {
     "ename": "ValueError",
     "evalue": "tuple.index(x): x not in tuple",
     "output_type": "error",
     "traceback": [
      "\u001b[1;31m---------------------------------------------------------------------------\u001b[0m",
      "\u001b[1;31mValueError\u001b[0m                                Traceback (most recent call last)",
      "Input \u001b[1;32mIn [62]\u001b[0m, in \u001b[0;36m<cell line: 2>\u001b[1;34m()\u001b[0m\n\u001b[0;32m      1\u001b[0m salary\u001b[38;5;241m=\u001b[39m(\u001b[38;5;241m1000\u001b[39m,\u001b[38;5;241m1500\u001b[39m,\u001b[38;5;241m800\u001b[39m,\u001b[38;5;241m700\u001b[39m,\u001b[38;5;241m1200\u001b[39m)\n\u001b[1;32m----> 2\u001b[0m \u001b[43msalary\u001b[49m\u001b[38;5;241;43m.\u001b[39;49m\u001b[43mindex\u001b[49m\u001b[43m(\u001b[49m\u001b[38;5;241;43m5000\u001b[39;49m\u001b[43m)\u001b[49m\n",
      "\u001b[1;31mValueError\u001b[0m: tuple.index(x): x not in tuple"
     ]
    }
   ],
   "source": [
    "salary=(1000,1500,800,700,1200)\n",
    "salary.index(5000)"
   ]
  },
  {
   "cell_type": "code",
   "execution_count": 63,
   "id": "dc9fb447",
   "metadata": {},
   "outputs": [
    {
     "data": {
      "text/plain": [
       "(1, 2)"
      ]
     },
     "execution_count": 63,
     "metadata": {},
     "output_type": "execute_result"
    }
   ],
   "source": [
    "tup=tuple({1:\"one\",2:\"two\"})\n",
    "tup"
   ]
  },
  {
   "cell_type": "code",
   "execution_count": 64,
   "id": "12fedb73",
   "metadata": {},
   "outputs": [
    {
     "ename": "TypeError",
     "evalue": "'int' object is not iterable",
     "output_type": "error",
     "traceback": [
      "\u001b[1;31m---------------------------------------------------------------------------\u001b[0m",
      "\u001b[1;31mTypeError\u001b[0m                                 Traceback (most recent call last)",
      "Input \u001b[1;32mIn [64]\u001b[0m, in \u001b[0;36m<cell line: 1>\u001b[1;34m()\u001b[0m\n\u001b[1;32m----> 1\u001b[0m t\u001b[38;5;241m=\u001b[39m\u001b[38;5;28;43mtuple\u001b[39;49m\u001b[43m(\u001b[49m\u001b[38;5;241;43m10\u001b[39;49m\u001b[43m)\u001b[49m\n",
      "\u001b[1;31mTypeError\u001b[0m: 'int' object is not iterable"
     ]
    }
   ],
   "source": [
    "t=tuple(10)"
   ]
  },
  {
   "cell_type": "code",
   "execution_count": 65,
   "id": "d28bd8cf",
   "metadata": {},
   "outputs": [
    {
     "data": {
      "text/plain": [
       "(10, 30, 30)"
      ]
     },
     "execution_count": 65,
     "metadata": {},
     "output_type": "execute_result"
    }
   ],
   "source": [
    "val=(10,20,30)\n",
    "a,b,c=val\n",
    "b=30\n",
    "val=(a,b,c)\n",
    "val"
   ]
  },
  {
   "cell_type": "code",
   "execution_count": 67,
   "id": "17657e04",
   "metadata": {},
   "outputs": [
    {
     "data": {
      "text/plain": [
       "('rice', 'dosa', 'biriyani', 'mushroom', 'paneer')"
      ]
     },
     "execution_count": 67,
     "metadata": {},
     "output_type": "execute_result"
    }
   ],
   "source": [
    "foods=(\"rice\",\"dosa\",\"idli\",\"mushroom\",\"paneer\")\n",
    "myfood=list(foods)\n",
    "myfood[2]=\"biriyani\"\n",
    "foods=tuple(myfood)\n",
    "foods"
   ]
  },
  {
   "cell_type": "code",
   "execution_count": null,
   "id": "3710ee43",
   "metadata": {},
   "outputs": [],
   "source": []
  }
 ],
 "metadata": {
  "kernelspec": {
   "display_name": "Python 3 (ipykernel)",
   "language": "python",
   "name": "python3"
  },
  "language_info": {
   "codemirror_mode": {
    "name": "ipython",
    "version": 3
   },
   "file_extension": ".py",
   "mimetype": "text/x-python",
   "name": "python",
   "nbconvert_exporter": "python",
   "pygments_lexer": "ipython3",
   "version": "3.9.12"
  }
 },
 "nbformat": 4,
 "nbformat_minor": 5
}
