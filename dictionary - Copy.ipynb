{
 "cells": [
  {
   "cell_type": "code",
   "execution_count": 1,
   "id": "084a53f4",
   "metadata": {},
   "outputs": [
    {
     "data": {
      "text/plain": [
       "{'A': 2341, 'B': 9102, 'C': 3259}"
      ]
     },
     "execution_count": 1,
     "metadata": {},
     "output_type": "execute_result"
    }
   ],
   "source": [
    "dict={'A':2341,'B':9102,'C':3259}\n",
    "dict"
   ]
  },
  {
   "cell_type": "code",
   "execution_count": 11,
   "id": "68b38cf2",
   "metadata": {},
   "outputs": [
    {
     "name": "stdout",
     "output_type": "stream",
     "text": [
      "Name: Zara\n"
     ]
    }
   ],
   "source": [
    "dict={'Name':'Zara','Age':7,'Class':'first'}\n",
    "print(\"Name:\",dict['Name'])"
   ]
  },
  {
   "cell_type": "code",
   "execution_count": 2,
   "id": "a5033144",
   "metadata": {},
   "outputs": [
    {
     "name": "stdout",
     "output_type": "stream",
     "text": [
      "Name: Zara\n",
      "age: 8\n",
      "school: DPS School\n"
     ]
    }
   ],
   "source": [
    "dict={'Name':'Zara','age':7,'Class':'first'}\n",
    "dict['age']=8\n",
    "dict['school']=\"DPS School\"\n",
    "print('Name:',dict['Name'])\n",
    "print(\"age:\",dict['age'])\n",
    "print(\"school:\",dict['school'])"
   ]
  },
  {
   "cell_type": "code",
   "execution_count": 18,
   "id": "3f009c3d",
   "metadata": {},
   "outputs": [
    {
     "name": "stdout",
     "output_type": "stream",
     "text": [
      "Age: dict['Age']\n",
      "school: dict['school']\n"
     ]
    }
   ],
   "source": [
    "dict={'Name':'Zara','Age':7,'Class':'first'}\n",
    "del dict ['Name']\n",
    "dict.clear()\n",
    "del dict\n",
    "print(\"Age:\",dict['Age'])\n",
    "print(\"school:\",dict['school'])\n"
   ]
  },
  {
   "cell_type": "code",
   "execution_count": 36,
   "id": "d34c1b45",
   "metadata": {},
   "outputs": [
    {
     "data": {
      "text/plain": [
       "{'Age': '7', 'Class': 'first'}"
      ]
     },
     "execution_count": 36,
     "metadata": {},
     "output_type": "execute_result"
    }
   ],
   "source": [
    "dict={'Name':'Zara','Age':'7','Class':'first'}\n",
    "del dict ['Name']\n",
    "dict"
   ]
  },
  {
   "cell_type": "code",
   "execution_count": 37,
   "id": "44aa8f0f",
   "metadata": {},
   "outputs": [
    {
     "data": {
      "text/plain": [
       "{}"
      ]
     },
     "execution_count": 37,
     "metadata": {},
     "output_type": "execute_result"
    }
   ],
   "source": [
    "dict={'Name':'Zara','Age':'7','Class':'first'}\n",
    "dict.clear()\n",
    "dict"
   ]
  },
  {
   "cell_type": "code",
   "execution_count": 19,
   "id": "6285f7ec",
   "metadata": {},
   "outputs": [],
   "source": [
    "dict={'Name':'Zara','Age':'7','Class':'first'}\n",
    "del dict"
   ]
  },
  {
   "cell_type": "code",
   "execution_count": 20,
   "id": "cf970429",
   "metadata": {},
   "outputs": [
    {
     "name": "stdout",
     "output_type": "stream",
     "text": [
      "Name: Manni\n"
     ]
    }
   ],
   "source": [
    "dict={'Name':'Zara','Age':'7','Name':'Manni'}\n",
    "print(\"Name:\",dict['Name'])"
   ]
  },
  {
   "cell_type": "code",
   "execution_count": 22,
   "id": "da36cf56",
   "metadata": {},
   "outputs": [
    {
     "name": "stdout",
     "output_type": "stream",
     "text": [
      "Name: Zara\n"
     ]
    }
   ],
   "source": [
    "dict={'Name':'Zara','Age':'7'}\n",
    "print(\"Name:\",dict['Name'])"
   ]
  },
  {
   "cell_type": "code",
   "execution_count": null,
   "id": "5e58615a",
   "metadata": {},
   "outputs": [],
   "source": []
  }
 ],
 "metadata": {
  "kernelspec": {
   "display_name": "Python 3 (ipykernel)",
   "language": "python",
   "name": "python3"
  },
  "language_info": {
   "codemirror_mode": {
    "name": "ipython",
    "version": 3
   },
   "file_extension": ".py",
   "mimetype": "text/x-python",
   "name": "python",
   "nbconvert_exporter": "python",
   "pygments_lexer": "ipython3",
   "version": "3.9.12"
  }
 },
 "nbformat": 4,
 "nbformat_minor": 5
}
