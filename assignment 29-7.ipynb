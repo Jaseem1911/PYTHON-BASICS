{
 "cells": [
  {
   "cell_type": "code",
   "execution_count": 113,
   "id": "e39d0009",
   "metadata": {
    "scrolled": true
   },
   "outputs": [
    {
     "name": "stdout",
     "output_type": "stream",
     "text": [
      "first element: 1\n",
      "second element: 2\n",
      "last element: 5\n"
     ]
    }
   ],
   "source": [
    "import array as arr\n",
    "a=arr.array('i',[1,2,3,4,5])\n",
    "print(\"first element:\",a[0])\n",
    "print(\"second element:\",a[1])\n",
    "print(\"last element:\",a[-1])"
   ]
  },
  {
   "cell_type": "code",
   "execution_count": 23,
   "id": "df2387b1",
   "metadata": {},
   "outputs": [
    {
     "data": {
      "text/plain": [
       "5"
      ]
     },
     "execution_count": 23,
     "metadata": {},
     "output_type": "execute_result"
    }
   ],
   "source": [
    "import array as arr\n",
    "a=arr.array('i',[1,2,3,4,5])\n",
    "len(a)"
   ]
  },
  {
   "cell_type": "code",
   "execution_count": 25,
   "id": "0f38ecda",
   "metadata": {},
   "outputs": [
    {
     "data": {
      "text/plain": [
       "5"
      ]
     },
     "execution_count": 25,
     "metadata": {},
     "output_type": "execute_result"
    }
   ],
   "source": [
    "a=arr.array('i',[1,2,3,4,5])\n",
    "max(a)"
   ]
  },
  {
   "cell_type": "code",
   "execution_count": 26,
   "id": "0b06ff13",
   "metadata": {},
   "outputs": [
    {
     "data": {
      "text/plain": [
       "1"
      ]
     },
     "execution_count": 26,
     "metadata": {},
     "output_type": "execute_result"
    }
   ],
   "source": [
    "a=arr.array('i',[1,2,3,4,5])\n",
    "min(a)"
   ]
  },
  {
   "cell_type": "code",
   "execution_count": 44,
   "id": "69262e33",
   "metadata": {},
   "outputs": [
    {
     "name": "stdout",
     "output_type": "stream",
     "text": [
      "4.2\n"
     ]
    }
   ],
   "source": [
    "a=arr.array('i',[1,2,9,6,3])\n",
    "avg=(1+2+9+6+3)/5\n",
    "print(avg)"
   ]
  },
  {
   "cell_type": "code",
   "execution_count": 59,
   "id": "83d543a7",
   "metadata": {},
   "outputs": [
    {
     "name": "stdout",
     "output_type": "stream",
     "text": [
      "array('i', [1, 2, 4, 5])\n"
     ]
    }
   ],
   "source": [
    "import array as arr\n",
    "a=arr.array('i',[1,2,3,4,5])\n",
    "del a[2]\n",
    "print(a)"
   ]
  },
  {
   "cell_type": "code",
   "execution_count": 62,
   "id": "86c79171",
   "metadata": {
    "scrolled": true
   },
   "outputs": [
    {
     "name": "stdout",
     "output_type": "stream",
     "text": [
      "array('i', [1, 2, 3, 4, 5, 6])\n"
     ]
    }
   ],
   "source": [
    "import array as arr\n",
    "a=arr.array('i',[1,2,3,4,5])\n",
    "b=arr.array('i',[6])\n",
    "c=arr.array('i')\n",
    "c=a+b\n",
    "print(c)"
   ]
  },
  {
   "cell_type": "code",
   "execution_count": 73,
   "id": "7923752c",
   "metadata": {},
   "outputs": [
    {
     "name": "stdout",
     "output_type": "stream",
     "text": [
      "array('i', [5, 4, 3, 2, 1])\n"
     ]
    }
   ],
   "source": [
    "import array as arr\n",
    "a=arr.array('i',[1,2,3,4,5])\n",
    "a.reverse()\n",
    "print(a)"
   ]
  },
  {
   "cell_type": "code",
   "execution_count": 109,
   "id": "c3292ab7",
   "metadata": {},
   "outputs": [
    {
     "name": "stdout",
     "output_type": "stream",
     "text": [
      "array('i', [5, 4, 3, 2, 1])\n"
     ]
    }
   ],
   "source": [
    "import array as arr\n",
    "a=arr.array('i',[1,2,3,4,5])\n",
    "b=a\n",
    "b.reverse()\n",
    "print(b)"
   ]
  },
  {
   "cell_type": "code",
   "execution_count": 78,
   "id": "62f64ce7",
   "metadata": {},
   "outputs": [
    {
     "data": {
      "text/plain": [
       "array('i', [3, 4, 5])"
      ]
     },
     "execution_count": 78,
     "metadata": {},
     "output_type": "execute_result"
    }
   ],
   "source": [
    "import array as arr\n",
    "a=arr.array('i',[1,2,3,4,5])\n",
    "a[2:5]"
   ]
  },
  {
   "cell_type": "code",
   "execution_count": 93,
   "id": "8ed98698",
   "metadata": {},
   "outputs": [
    {
     "name": "stdout",
     "output_type": "stream",
     "text": [
      "[1, 2, 3, 4, 5]\n"
     ]
    }
   ],
   "source": [
    "import array as arr\n",
    "a=arr.array('i',[1,2,3,4,5])\n",
    "num_list=a.tolist()\n",
    "print(num_list)"
   ]
  },
  {
   "cell_type": "code",
   "execution_count": 107,
   "id": "6ba39c68",
   "metadata": {},
   "outputs": [
    {
     "name": "stdout",
     "output_type": "stream",
     "text": [
      "array('i', [5, 3, 1])\n",
      "array('i', [2, 4])\n"
     ]
    }
   ],
   "source": [
    "import array as arr\n",
    "a=arr.array('i',[1,2,3,4,5])\n",
    "res1=a[::-2]\n",
    "res2=a[1::2]\n",
    "print(res1)\n",
    "print(res2)"
   ]
  },
  {
   "cell_type": "code",
   "execution_count": 126,
   "id": "1f6f976b",
   "metadata": {
    "scrolled": true
   },
   "outputs": [
    {
     "name": "stdout",
     "output_type": "stream",
     "text": [
      "1 2 \n",
      "3 4 5 "
     ]
    }
   ],
   "source": [
    "import array as arr\n",
    "a=arr.array('i',[1,2,3,4,5])\n",
    "splitArray(a,n,k)"
   ]
  },
  {
   "cell_type": "code",
   "execution_count": null,
   "id": "e7a5881c",
   "metadata": {},
   "outputs": [],
   "source": []
  }
 ],
 "metadata": {
  "kernelspec": {
   "display_name": "Python 3 (ipykernel)",
   "language": "python",
   "name": "python3"
  },
  "language_info": {
   "codemirror_mode": {
    "name": "ipython",
    "version": 3
   },
   "file_extension": ".py",
   "mimetype": "text/x-python",
   "name": "python",
   "nbconvert_exporter": "python",
   "pygments_lexer": "ipython3",
   "version": "3.9.12"
  }
 },
 "nbformat": 4,
 "nbformat_minor": 5
}
