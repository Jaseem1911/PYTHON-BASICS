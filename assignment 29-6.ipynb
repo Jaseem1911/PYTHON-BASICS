{
 "cells": [
  {
   "cell_type": "code",
   "execution_count": 35,
   "id": "762b7107",
   "metadata": {},
   "outputs": [
    {
     "name": "stdout",
     "output_type": "stream",
     "text": [
      "Muhammed has a salary of Rs.10000\n"
     ]
    }
   ],
   "source": [
    "def employee(name,salary):\n",
    "    \"\"\"this function display the name\n",
    "    and salary of the employee\"\"\"\n",
    "    print(name+\" has a salary of Rs.\"+salary)\n",
    "employee(\"Muhammed\",\"10000\")"
   ]
  },
  {
   "cell_type": "code",
   "execution_count": 32,
   "id": "7e4c34f1",
   "metadata": {},
   "outputs": [
    {
     "name": "stdout",
     "output_type": "stream",
     "text": [
      "Ahraz has a salary of Rs.9000\n"
     ]
    }
   ],
   "source": [
    "def employee(name,salary=\"9000\"):\n",
    "    \"\"\"this function display the name and salary of the employee.\n",
    "    if the salary is not provided,it defaults to \"9000\" \"\"\"\n",
    "    print(name+\" has a salary of Rs.\"+salary)\n",
    "employee(\"Ahraz\")"
   ]
  },
  {
   "cell_type": "code",
   "execution_count": 36,
   "id": "6eb84ce4",
   "metadata": {},
   "outputs": [
    {
     "name": "stdout",
     "output_type": "stream",
     "text": [
      "(5, 1)\n"
     ]
    }
   ],
   "source": [
    "def calculation(a,b):\n",
    "    \"\"\"this function return the addition \n",
    "    and subtraction of given variables\"\"\"\n",
    "    sum=a+b\n",
    "    sub=a-b\n",
    "    return sum,sub\n",
    "num1=3\n",
    "num2=2\n",
    "print(calculation(num1,num2))\n"
   ]
  },
  {
   "cell_type": "code",
   "execution_count": 34,
   "id": "a53a1f0d",
   "metadata": {},
   "outputs": [
    {
     "name": "stdout",
     "output_type": "stream",
     "text": [
      "The sum of first 4 numbers is 10\n"
     ]
    }
   ],
   "source": [
    "def sum(x):\n",
    "    \"\"\"This is a recursive function\n",
    "    to find the sum of consecutive numbers \"\"\"\n",
    "\n",
    "    if x == 1:\n",
    "        return 1\n",
    "    else:\n",
    "        return (x + sum(x-1))\n",
    "\n",
    "\n",
    "num = 4\n",
    "print(\"The sum of first\", num, \"numbers is\", sum(num))"
   ]
  },
  {
   "cell_type": "code",
   "execution_count": 33,
   "id": "88a9b2b8",
   "metadata": {},
   "outputs": [
    {
     "name": "stdout",
     "output_type": "stream",
     "text": [
      "The factorial of 3 is 6\n"
     ]
    }
   ],
   "source": [
    "def factorial(x):\n",
    "    \"\"\"This is a recursive function\n",
    "    to find the factorial of an integer\"\"\"\n",
    "\n",
    "    if x == 1:\n",
    "        return 1\n",
    "    else:\n",
    "        return (x * factorial(x-1))\n",
    "\n",
    "\n",
    "num = 3\n",
    "print(\"The factorial of\", num, \"is\", factorial(num))"
   ]
  },
  {
   "cell_type": "code",
   "execution_count": 42,
   "id": "3ea15276",
   "metadata": {},
   "outputs": [
    {
     "name": "stdout",
     "output_type": "stream",
     "text": [
      "5.0\n",
      "10.0\n"
     ]
    }
   ],
   "source": [
    "divide=lambda x:x/2\n",
    "print(divide(10))\n",
    "print(divide(20))"
   ]
  },
  {
   "cell_type": "code",
   "execution_count": 8,
   "id": "bb4623b4",
   "metadata": {},
   "outputs": [
    {
     "name": "stdout",
     "output_type": "stream",
     "text": [
      "[1, 4, 9, 16, 25]\n"
     ]
    }
   ],
   "source": [
    "my_list=[1,2,3,4,5]\n",
    "new_list=list(map(lambda x:x**2,my_list))\n",
    "print(new_list)"
   ]
  },
  {
   "cell_type": "code",
   "execution_count": 29,
   "id": "72350394",
   "metadata": {},
   "outputs": [
    {
     "name": "stdout",
     "output_type": "stream",
     "text": [
      "[1, 3, 5, 7, 9]\n"
     ]
    }
   ],
   "source": [
    "a_list=[1,2,3,4,5,6,7,8,9,10]\n",
    "b_list=list(filter(lambda x:(x%2)-1==0,a_list))\n",
    "print(b_list)"
   ]
  },
  {
   "cell_type": "code",
   "execution_count": 30,
   "id": "0cb7f56a",
   "metadata": {},
   "outputs": [
    {
     "name": "stdout",
     "output_type": "stream",
     "text": [
      "[2, 4, 6, 8, 10]\n"
     ]
    }
   ],
   "source": [
    "a_list=[1,2,3,4,5,6,7,8,9,10]\n",
    "b_list=list(filter(lambda x:(x%2)==0,a_list))\n",
    "print(b_list)"
   ]
  },
  {
   "cell_type": "code",
   "execution_count": 46,
   "id": "7ed1f82b",
   "metadata": {},
   "outputs": [
    {
     "name": "stdout",
     "output_type": "stream",
     "text": [
      "[2, 4, 6, 8, 10, 12, 14, 16, 18, 20]\n"
     ]
    }
   ],
   "source": [
    "a_list=[1,2,3,4,5,6,7,8,9,10]\n",
    "b_list=list(map(lambda x:(x*2),a_list))\n",
    "print(b_list)"
   ]
  },
  {
   "cell_type": "code",
   "execution_count": null,
   "id": "2b2e72c2",
   "metadata": {},
   "outputs": [],
   "source": []
  }
 ],
 "metadata": {
  "kernelspec": {
   "display_name": "Python 3 (ipykernel)",
   "language": "python",
   "name": "python3"
  },
  "language_info": {
   "codemirror_mode": {
    "name": "ipython",
    "version": 3
   },
   "file_extension": ".py",
   "mimetype": "text/x-python",
   "name": "python",
   "nbconvert_exporter": "python",
   "pygments_lexer": "ipython3",
   "version": "3.9.12"
  }
 },
 "nbformat": 4,
 "nbformat_minor": 5
}
