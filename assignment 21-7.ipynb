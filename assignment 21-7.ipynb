{
 "cells": [
  {
   "cell_type": "code",
   "execution_count": 18,
   "id": "4da0e3dd",
   "metadata": {},
   "outputs": [
    {
     "name": "stdout",
     "output_type": "stream",
     "text": [
      "Cricket has 11 players in a team\n",
      "Badminton has 2 players in a team\n"
     ]
    }
   ],
   "source": [
    "class Games:\n",
    "    formats=\"Sports\"\n",
    "    def __init__(self,name,players):\n",
    "        self.name=name\n",
    "        self.players=players\n",
    "cricket=Games(\"Cricket\",11)\n",
    "badminton=Games(\"Badminton\",2)\n",
    "print(\"{} has {} players in a team\".format(cricket.name,cricket.players))\n",
    "print(\"{} has {} players in a team\".format(badminton.name,badminton.players))\n"
   ]
  },
  {
   "cell_type": "code",
   "execution_count": 69,
   "id": "9e872177",
   "metadata": {},
   "outputs": [
    {
     "name": "stdout",
     "output_type": "stream",
     "text": [
      "ready to go\n"
     ]
    }
   ],
   "source": [
    "class vehicle:\n",
    "    def __init__(self):\n",
    "        print(\"ready to go\")\n",
    "Vehicle=vehicle()\n"
   ]
  },
  {
   "cell_type": "code",
   "execution_count": 4,
   "id": "71015d92",
   "metadata": {},
   "outputs": [
    {
     "name": "stdout",
     "output_type": "stream",
     "text": [
      "bus is ready\n",
      "50\n"
     ]
    }
   ],
   "source": [
    "class vehicle:\n",
    "    def __init__(self):\n",
    "        print(\"vehicle is ready\")\n",
    "    def seating_capacity(self):\n",
    "        print(\"100\")\n",
    "class bus(vehicle):\n",
    "    def __init__(self):\n",
    "        print(\"bus is ready\")\n",
    "    def seating_capacity(self):\n",
    "        print(\"50\")\n",
    "Bus=bus()\n",
    "Bus.seating_capacity()\n",
    "        "
   ]
  },
  {
   "cell_type": "code",
   "execution_count": 97,
   "id": "2b8ac238",
   "metadata": {},
   "outputs": [
    {
     "name": "stdout",
     "output_type": "stream",
     "text": [
      "Benz 4-Seater Black\n"
     ]
    }
   ],
   "source": [
    "class four_wheeler:\n",
    "    def __init__(self,a,b):\n",
    "       \n",
    "        self.a=a\n",
    "        self.b=b\n",
    "    def power(self):\n",
    "        print(self.a,self.b)\n",
    "\n",
    "class car(four_wheeler):\n",
    "    def __init__(self,a,b,c):\n",
    "         #call super() function\n",
    "        super().__init__(a,b)\n",
    "        self.c=c\n",
    "       \n",
    "    def space(self):\n",
    "        print(self.a,self.b,self.c)\n",
    "        \n",
    "Seat=car('Benz','4-Seater','Black')\n",
    "Seat.space()"
   ]
  },
  {
   "cell_type": "code",
   "execution_count": 104,
   "id": "65748452",
   "metadata": {},
   "outputs": [
    {
     "name": "stdout",
     "output_type": "stream",
     "text": [
      "Jaseem 22yrs 165cm\n"
     ]
    }
   ],
   "source": [
    "class Man:\n",
    "    def __init__(self,name,age):\n",
    "        self.name=name\n",
    "        self.age=age\n",
    "class power(Man):\n",
    "    def __init__(self,name,age,height):\n",
    "        super().__init__(name,age)\n",
    "        self.height=height\n",
    "    def cap(self):\n",
    "        print(self.name,self.age,self.height)\n",
    "h=power('Jaseem','22yrs','165cm')\n",
    "h.cap()"
   ]
  },
  {
   "cell_type": "code",
   "execution_count": 13,
   "id": "f31164b7",
   "metadata": {},
   "outputs": [
    {
     "name": "stdout",
     "output_type": "stream",
     "text": [
      "100\n",
      "2400\n",
      "0.6666666666666666\n"
     ]
    }
   ],
   "source": [
    "class calculation1:\n",
    "    def __init__(self,a,b):\n",
    "        self.a=a\n",
    "        self.b=b\n",
    "    def add(self):\n",
    "        return self.a + self.b\n",
    "# obj1=calculation1(40,60)\n",
    "# print(obj1.add())\n",
    "class calculation2:\n",
    "    def __init__(self):\n",
    "        print(\"hai\")\n",
    "    def multiply(self):\n",
    "        return self.a * self.b\n",
    "# obj2=calculation2(40,60)\n",
    "# print(obj2.multiply(40,60))\n",
    "#child class\n",
    "class calculation3(calculation1,calculation2):\n",
    "    def __init__(self,a,b):\n",
    "        super().__init__(a,b)\n",
    "\n",
    "    def divide(self):\n",
    "        return(self.a / self.b)\n",
    "H=calculation3(40,60)\n",
    "print(H.add())\n",
    "print(H.multiply())\n",
    "print(H.divide())"
   ]
  },
  {
   "cell_type": "code",
   "execution_count": 26,
   "id": "956b9483",
   "metadata": {},
   "outputs": [
    {
     "name": "stdout",
     "output_type": "stream",
     "text": [
      "Its a Bull-dog\n",
      "Bull-dog doesnt howl\n"
     ]
    }
   ],
   "source": [
    "class animal:\n",
    "    def __init__(self):\n",
    "        print(\"its an animal\")\n",
    "class dog(animal):\n",
    "    def __init__(self):\n",
    "        print(\"Its a dog\")\n",
    "class puppy(dog):\n",
    "    def __init__(self):\n",
    "        print(\"Its a Bull-dog\")\n",
    "    def howl(self):\n",
    "        print(\"Bull-dog doesnt howl\")\n",
    "bulldog=puppy()\n",
    "bulldog.howl()"
   ]
  },
  {
   "cell_type": "code",
   "execution_count": 1,
   "id": "98de1566",
   "metadata": {},
   "outputs": [
    {
     "name": "stdout",
     "output_type": "stream",
     "text": [
      "School Volvo Speed: 180 Mileage: 12\n",
      "Audi Q5 Speed: 240 Mileage: 18\n"
     ]
    }
   ],
   "source": [
    "class Vehicle:\n",
    "    # Class attribute\n",
    "\n",
    "    def __init__(self, name, max_speed, mileage):\n",
    "        self.name = name\n",
    "        self.max_speed = max_speed\n",
    "        self.mileage = mileage\n",
    "\n",
    "class Bus(Vehicle):\n",
    "    pass\n",
    "\n",
    "class Car(Vehicle):\n",
    "    pass\n",
    "\n",
    "School_bus = Bus(\"School Volvo\", 180, 12)\n",
    "print(School_bus.name, \"Speed:\", School_bus.max_speed, \"Mileage:\", School_bus.mileage)\n",
    "\n",
    "car = Car(\"Audi Q5\", 240, 18)\n",
    "print(car.name, \"Speed:\", car.max_speed, \"Mileage:\", car.mileage)"
   ]
  },
  {
   "cell_type": "code",
   "execution_count": 2,
   "id": "fa40869c",
   "metadata": {},
   "outputs": [
    {
     "name": "stdout",
     "output_type": "stream",
     "text": [
      "<class '__main__.Bus'>\n"
     ]
    }
   ],
   "source": [
    "print(type(School_bus))"
   ]
  },
  {
   "cell_type": "code",
   "execution_count": 5,
   "id": "b5aa73c1",
   "metadata": {},
   "outputs": [
    {
     "data": {
      "text/plain": [
       "True"
      ]
     },
     "execution_count": 5,
     "metadata": {},
     "output_type": "execute_result"
    }
   ],
   "source": [
    "isinstance(School_bus,Vehicle)"
   ]
  },
  {
   "cell_type": "code",
   "execution_count": null,
   "id": "823020fe",
   "metadata": {},
   "outputs": [],
   "source": []
  }
 ],
 "metadata": {
  "kernelspec": {
   "display_name": "Python 3 (ipykernel)",
   "language": "python",
   "name": "python3"
  },
  "language_info": {
   "codemirror_mode": {
    "name": "ipython",
    "version": 3
   },
   "file_extension": ".py",
   "mimetype": "text/x-python",
   "name": "python",
   "nbconvert_exporter": "python",
   "pygments_lexer": "ipython3",
   "version": "3.9.12"
  }
 },
 "nbformat": 4,
 "nbformat_minor": 5
}
