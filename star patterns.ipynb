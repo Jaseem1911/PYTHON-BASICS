{
 "cells": [
  {
   "cell_type": "code",
   "execution_count": 1,
   "id": "186f7115",
   "metadata": {},
   "outputs": [
    {
     "data": {
      "text/plain": [
       "('rice', 'biriyani', 'rava', 'idli')"
      ]
     },
     "execution_count": 1,
     "metadata": {},
     "output_type": "execute_result"
    }
   ],
   "source": [
    "foods=(\"rice\",\"biriyani\",\"dosa\",\"idli\")\n",
    "myfood=list(foods)\n",
    "myfood[2]=\"rava\"\n",
    "foods=tuple(myfood)\n",
    "foods"
   ]
  },
  {
   "cell_type": "code",
   "execution_count": 6,
   "id": "771e49e9",
   "metadata": {},
   "outputs": [
    {
     "data": {
      "text/plain": [
       "('q', 'u', 'i', 'c', 'k')"
      ]
     },
     "execution_count": 6,
     "metadata": {},
     "output_type": "execute_result"
    }
   ],
   "source": [
    "tup=tuple(\"quick\")\n",
    "tup\n"
   ]
  },
  {
   "cell_type": "code",
   "execution_count": 63,
   "id": "dfa6aefd",
   "metadata": {},
   "outputs": [],
   "source": [
    "a=[1,2,3,4]"
   ]
  },
  {
   "cell_type": "code",
   "execution_count": 89,
   "id": "c838036c",
   "metadata": {},
   "outputs": [
    {
     "name": "stdout",
     "output_type": "stream",
     "text": [
      "******\n",
      "\n",
      "\n",
      "**\n",
      "\n",
      "\n",
      "**\n",
      "\n",
      "\n",
      "******"
     ]
    }
   ],
   "source": [
    "size=5\n",
    "for i in range(size):\n",
    "    for j in range(size):\n",
    "        #print * completely in first and last row\n",
    "        #print * only in first and last position in other rows\n",
    "        if i==0 or i==size-1 or j==0 or j==size-1:\n",
    "            print('*',end='')\n",
    "        else:\n",
    "            print(' ',end='')\n",
    "            print()"
   ]
  },
  {
   "cell_type": "markdown",
   "id": "3897d44b",
   "metadata": {},
   "source": []
  },
  {
   "cell_type": "code",
   "execution_count": 134,
   "id": "e41e0598",
   "metadata": {},
   "outputs": [
    {
     "name": "stdout",
     "output_type": "stream",
     "text": [
      "* * * * * \n",
      "* * * * * \n",
      "* * * * * \n",
      "* * * * * \n",
      "* * * * * \n"
     ]
    }
   ],
   "source": [
    "for i in range(0, 5):\n",
    "    for j in range(0, 5):\n",
    "        print(\"*\", end=\" \")\n",
    "    print( )"
   ]
  },
  {
   "cell_type": "code",
   "execution_count": 131,
   "id": "fc68103a",
   "metadata": {},
   "outputs": [
    {
     "name": "stdout",
     "output_type": "stream",
     "text": [
      "   *\n",
      "  ***\n",
      " *****\n",
      "*******\n"
     ]
    }
   ],
   "source": [
    "n=4\n",
    "for i in range(n):\n",
    "    for j in range(n-i-1):\n",
    "        print(' ',end='')\n",
    "    for j in range(2*i+1):\n",
    "        print('*',end='')\n",
    "    print()"
   ]
  },
  {
   "cell_type": "code",
   "execution_count": 129,
   "id": "930f2865",
   "metadata": {},
   "outputs": [
    {
     "name": "stdout",
     "output_type": "stream",
     "text": [
      "*******\n",
      " *****\n",
      "  ***\n",
      "   *\n"
     ]
    }
   ],
   "source": [
    "n=4\n",
    "for i in range(n):\n",
    "    for j in range(i):\n",
    "        print(' ',end='')\n",
    "    for j in range(2*(n-i)-1):\n",
    "        print('*',end='')\n",
    "    print()"
   ]
  },
  {
   "cell_type": "code",
   "execution_count": 132,
   "id": "a47a819c",
   "metadata": {},
   "outputs": [
    {
     "name": "stdout",
     "output_type": "stream",
     "text": [
      "   *\n",
      "  ***\n",
      " *****\n",
      "*******\n",
      "*******\n",
      " *****\n",
      "  ***\n",
      "   *\n"
     ]
    }
   ],
   "source": [
    "n=4\n",
    "for i in range(n):\n",
    "    for j in range(n-i-1):\n",
    "        print(' ',end='')\n",
    "    for j in range(2*i+1):\n",
    "        print('*',end='')\n",
    "    print()\n",
    "for i in range(n):\n",
    "    for j in range(i):\n",
    "        print(' ',end='')\n",
    "    for j in range(2*(n-i)-1):\n",
    "        print('*',end='')\n",
    "    print()"
   ]
  },
  {
   "cell_type": "code",
   "execution_count": 145,
   "id": "180878c2",
   "metadata": {},
   "outputs": [
    {
     "name": "stdout",
     "output_type": "stream",
     "text": [
      "    *\n",
      "   * *\n",
      "  *   *\n",
      " *     *\n",
      "*********\n"
     ]
    }
   ],
   "source": [
    "n=5\n",
    "for i in range(n):\n",
    "    for j in range(n-i-1):\n",
    "        print(' ',end='')\n",
    "    for j in range(2*i+1):\n",
    "        if j==0 or j==2*i:\n",
    "            print('*',end='')\n",
    "        else:\n",
    "            if i==n-1:\n",
    "                print('*',end='')\n",
    "            else:\n",
    "                print(' ',end='')\n",
    "    print()           \n",
    "             "
   ]
  },
  {
   "cell_type": "code",
   "execution_count": null,
   "id": "978493c6",
   "metadata": {},
   "outputs": [],
   "source": []
  }
 ],
 "metadata": {
  "kernelspec": {
   "display_name": "Python 3 (ipykernel)",
   "language": "python",
   "name": "python3"
  },
  "language_info": {
   "codemirror_mode": {
    "name": "ipython",
    "version": 3
   },
   "file_extension": ".py",
   "mimetype": "text/x-python",
   "name": "python",
   "nbconvert_exporter": "python",
   "pygments_lexer": "ipython3",
   "version": "3.9.12"
  }
 },
 "nbformat": 4,
 "nbformat_minor": 5
}
