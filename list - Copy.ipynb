{
 "cells": [
  {
   "cell_type": "code",
   "execution_count": 1,
   "id": "1a441311",
   "metadata": {},
   "outputs": [
    {
     "name": "stdout",
     "output_type": "stream",
     "text": [
      "o\n"
     ]
    }
   ],
   "source": [
    "list=['p','r','o','b','e']\n",
    "print(list[2])"
   ]
  },
  {
   "cell_type": "code",
   "execution_count": 3,
   "id": "05340dd3",
   "metadata": {},
   "outputs": [
    {
     "name": "stdout",
     "output_type": "stream",
     "text": [
      "b\n"
     ]
    }
   ],
   "source": [
    "list=['p','r','o','b','e']\n",
    "print(list[-2])"
   ]
  },
  {
   "cell_type": "code",
   "execution_count": 4,
   "id": "fda92a8d",
   "metadata": {},
   "outputs": [
    {
     "name": "stdout",
     "output_type": "stream",
     "text": [
      "[90, 80, 60]\n"
     ]
    }
   ],
   "source": [
    "marks=[90,80,60]\n",
    "print(marks)"
   ]
  },
  {
   "cell_type": "code",
   "execution_count": 6,
   "id": "5fdab02f",
   "metadata": {},
   "outputs": [
    {
     "name": "stdout",
     "output_type": "stream",
     "text": [
      "[90, 100, 60]\n"
     ]
    }
   ],
   "source": [
    "marks=[90,80,60]\n",
    "marks[1]=100\n",
    "print(marks)"
   ]
  },
  {
   "cell_type": "code",
   "execution_count": 7,
   "id": "01c61ce6",
   "metadata": {},
   "outputs": [
    {
     "name": "stdout",
     "output_type": "stream",
     "text": [
      "[90, 80, 60, 50]\n"
     ]
    }
   ],
   "source": [
    "marks=[90,80,60]\n",
    "marks.append(50)\n",
    "print(marks)"
   ]
  },
  {
   "cell_type": "code",
   "execution_count": 9,
   "id": "fed6639a",
   "metadata": {},
   "outputs": [
    {
     "name": "stdout",
     "output_type": "stream",
     "text": [
      "[90, 80, 60, 20, 30, 40]\n"
     ]
    }
   ],
   "source": [
    "marks=[90,80,60]\n",
    "marks.extend([20,30,40])\n",
    "print(marks)"
   ]
  },
  {
   "cell_type": "code",
   "execution_count": 4,
   "id": "144c1d87",
   "metadata": {},
   "outputs": [
    {
     "name": "stdout",
     "output_type": "stream",
     "text": [
      "[90, 10, 80, 60]\n"
     ]
    }
   ],
   "source": [
    "marks=[90,80,60]\n",
    "marks.insert(1,10)\n",
    "print(marks)"
   ]
  },
  {
   "cell_type": "code",
   "execution_count": 12,
   "id": "7ea4682f",
   "metadata": {},
   "outputs": [
    {
     "name": "stdout",
     "output_type": "stream",
     "text": [
      "[90, 80, 60, 70, 50]\n"
     ]
    }
   ],
   "source": [
    "marks=[90,80,60,70,10,50]\n",
    "del marks[4]\n",
    "print(marks)"
   ]
  },
  {
   "cell_type": "code",
   "execution_count": 13,
   "id": "74561105",
   "metadata": {},
   "outputs": [
    {
     "ename": "NameError",
     "evalue": "name 'marks' is not defined",
     "output_type": "error",
     "traceback": [
      "\u001b[1;31m---------------------------------------------------------------------------\u001b[0m",
      "\u001b[1;31mNameError\u001b[0m                                 Traceback (most recent call last)",
      "Input \u001b[1;32mIn [13]\u001b[0m, in \u001b[0;36m<cell line: 3>\u001b[1;34m()\u001b[0m\n\u001b[0;32m      1\u001b[0m marks\u001b[38;5;241m=\u001b[39m[\u001b[38;5;241m90\u001b[39m,\u001b[38;5;241m80\u001b[39m,\u001b[38;5;241m60\u001b[39m,\u001b[38;5;241m70\u001b[39m,\u001b[38;5;241m10\u001b[39m,\u001b[38;5;241m50\u001b[39m]\n\u001b[0;32m      2\u001b[0m \u001b[38;5;28;01mdel\u001b[39;00m marks\n\u001b[1;32m----> 3\u001b[0m \u001b[38;5;28mprint\u001b[39m(\u001b[43mmarks\u001b[49m)\n",
      "\u001b[1;31mNameError\u001b[0m: name 'marks' is not defined"
     ]
    }
   ],
   "source": [
    "marks=[90,80,60,70,10,50]\n",
    "del marks\n",
    "print(marks)"
   ]
  },
  {
   "cell_type": "code",
   "execution_count": 14,
   "id": "caf9f183",
   "metadata": {},
   "outputs": [
    {
     "name": "stdout",
     "output_type": "stream",
     "text": [
      "[]\n"
     ]
    }
   ],
   "source": [
    "marks=[90,80,60,70,10,50]\n",
    "marks.clear()\n",
    "print(marks)"
   ]
  },
  {
   "cell_type": "code",
   "execution_count": 15,
   "id": "c6d4f54c",
   "metadata": {},
   "outputs": [
    {
     "name": "stdout",
     "output_type": "stream",
     "text": [
      "[90, 80, 60, 10, 50]\n"
     ]
    }
   ],
   "source": [
    "marks=[90,80,60,70,10,50]\n",
    "marks.remove(70)\n",
    "print(marks)"
   ]
  },
  {
   "cell_type": "code",
   "execution_count": 16,
   "id": "d3068653",
   "metadata": {},
   "outputs": [
    {
     "ename": "ValueError",
     "evalue": "list.remove(x): x not in list",
     "output_type": "error",
     "traceback": [
      "\u001b[1;31m---------------------------------------------------------------------------\u001b[0m",
      "\u001b[1;31mValueError\u001b[0m                                Traceback (most recent call last)",
      "Input \u001b[1;32mIn [16]\u001b[0m, in \u001b[0;36m<cell line: 2>\u001b[1;34m()\u001b[0m\n\u001b[0;32m      1\u001b[0m marks\u001b[38;5;241m=\u001b[39m[\u001b[38;5;241m90\u001b[39m,\u001b[38;5;241m80\u001b[39m,\u001b[38;5;241m60\u001b[39m,\u001b[38;5;241m70\u001b[39m,\u001b[38;5;241m10\u001b[39m,\u001b[38;5;241m50\u001b[39m]\n\u001b[1;32m----> 2\u001b[0m \u001b[43mmarks\u001b[49m\u001b[38;5;241;43m.\u001b[39;49m\u001b[43mremove\u001b[49m\u001b[43m(\u001b[49m\u001b[38;5;241;43m100\u001b[39;49m\u001b[43m)\u001b[49m\n\u001b[0;32m      3\u001b[0m \u001b[38;5;28mprint\u001b[39m(marks)\n",
      "\u001b[1;31mValueError\u001b[0m: list.remove(x): x not in list"
     ]
    }
   ],
   "source": [
    "marks=[90,80,60,70,10,50]\n",
    "marks.remove(100)\n",
    "print(marks)"
   ]
  },
  {
   "cell_type": "code",
   "execution_count": 32,
   "id": "18ad0f77",
   "metadata": {},
   "outputs": [
    {
     "data": {
      "text/plain": [
       "50"
      ]
     },
     "execution_count": 32,
     "metadata": {},
     "output_type": "execute_result"
    }
   ],
   "source": [
    "marks=[90,80,70,60,50]\n",
    "marks.pop()"
   ]
  },
  {
   "cell_type": "code",
   "execution_count": 33,
   "id": "4cd732c1",
   "metadata": {},
   "outputs": [
    {
     "name": "stdout",
     "output_type": "stream",
     "text": [
      "[90, 80, 70, 60]\n"
     ]
    }
   ],
   "source": [
    "print(marks)"
   ]
  },
  {
   "cell_type": "code",
   "execution_count": 34,
   "id": "51eceebb",
   "metadata": {},
   "outputs": [
    {
     "data": {
      "text/plain": [
       "80"
      ]
     },
     "execution_count": 34,
     "metadata": {},
     "output_type": "execute_result"
    }
   ],
   "source": [
    "marks.pop(1)"
   ]
  },
  {
   "cell_type": "code",
   "execution_count": 35,
   "id": "8527ca07",
   "metadata": {},
   "outputs": [
    {
     "name": "stdout",
     "output_type": "stream",
     "text": [
      "[90, 70, 60]\n"
     ]
    }
   ],
   "source": [
    "print(marks)"
   ]
  },
  {
   "cell_type": "code",
   "execution_count": 21,
   "id": "d0ae6a5e",
   "metadata": {},
   "outputs": [
    {
     "name": "stdout",
     "output_type": "stream",
     "text": [
      "['p', 'r', 'o', 'b']\n"
     ]
    }
   ],
   "source": [
    "list=['p','r','o','b','e']\n",
    "print(list[0:4])"
   ]
  },
  {
   "cell_type": "code",
   "execution_count": 26,
   "id": "e2168da3",
   "metadata": {},
   "outputs": [
    {
     "name": "stdout",
     "output_type": "stream",
     "text": [
      "['b']\n"
     ]
    }
   ],
   "source": [
    "list=['p','r','o','b','e']\n",
    "print(list[-2:-1])"
   ]
  },
  {
   "cell_type": "code",
   "execution_count": 27,
   "id": "2e129822",
   "metadata": {},
   "outputs": [
    {
     "name": "stdout",
     "output_type": "stream",
     "text": [
      "[1, 2, 3]\n"
     ]
    }
   ],
   "source": [
    "old=[1,2,3]\n",
    "new=old\n",
    "print(new)"
   ]
  },
  {
   "cell_type": "code",
   "execution_count": 28,
   "id": "182990f0",
   "metadata": {},
   "outputs": [
    {
     "name": "stdout",
     "output_type": "stream",
     "text": [
      "[1, 2, 3, 4]\n",
      "[1, 2, 3, 4]\n"
     ]
    }
   ],
   "source": [
    "old=[1,2,3]\n",
    "old=new\n",
    "new.append(4)\n",
    "print(new)\n",
    "print(old)"
   ]
  },
  {
   "cell_type": "code",
   "execution_count": 43,
   "id": "64d7ce7b",
   "metadata": {},
   "outputs": [
    {
     "name": "stdout",
     "output_type": "stream",
     "text": [
      "[1, 2, 4]\n",
      "[1, 2, 4, 3]\n"
     ]
    }
   ],
   "source": [
    "old=[1,2,4]\n",
    "new=old[:]\n",
    "new.append(3)\n",
    "print(old)\n",
    "print(new)"
   ]
  },
  {
   "cell_type": "code",
   "execution_count": 1,
   "id": "7bb86a0d",
   "metadata": {},
   "outputs": [
    {
     "name": "stdout",
     "output_type": "stream",
     "text": [
      "original old: <class 'list'>\n"
     ]
    }
   ],
   "source": [
    "old=[1,5,8,6,11]\n",
    "print('original old:',list)"
   ]
  },
  {
   "cell_type": "code",
   "execution_count": 55,
   "id": "3d802438",
   "metadata": {},
   "outputs": [
    {
     "name": "stdout",
     "output_type": "stream",
     "text": [
      "reversed_list: list[slice(None, None, -1)]\n"
     ]
    }
   ],
   "source": [
    "old=[1,5,8,6,11,55]\n",
    "reversed_list=list[::-1]\n",
    "print('reversed_list:',reversed_list)"
   ]
  },
  {
   "cell_type": "code",
   "execution_count": 56,
   "id": "52102760",
   "metadata": {},
   "outputs": [
    {
     "name": "stdout",
     "output_type": "stream",
     "text": [
      "original list: [1, 5, 6, 8, 11, 55]\n"
     ]
    }
   ],
   "source": [
    "list=[1,5,6,8,11,55]\n",
    "print('original list:',list)"
   ]
  },
  {
   "cell_type": "code",
   "execution_count": 57,
   "id": "c25077e3",
   "metadata": {},
   "outputs": [
    {
     "name": "stdout",
     "output_type": "stream",
     "text": [
      "reversed list: [55, 11, 8, 6, 5, 1]\n"
     ]
    }
   ],
   "source": [
    "list=[1,5,6,8,11,55]\n",
    "list.reverse()\n",
    "print('reversed list:',list)"
   ]
  },
  {
   "cell_type": "code",
   "execution_count": 58,
   "id": "166886c5",
   "metadata": {},
   "outputs": [
    {
     "name": "stdout",
     "output_type": "stream",
     "text": [
      "sorted list: [1, 6, 15, 51, 55, 88]\n"
     ]
    }
   ],
   "source": [
    "list=[1,15,6,88,51,55]\n",
    "list.sort()\n",
    "print('sorted list:',list)"
   ]
  },
  {
   "cell_type": "code",
   "execution_count": 59,
   "id": "b7dd2c97",
   "metadata": {},
   "outputs": [
    {
     "name": "stdout",
     "output_type": "stream",
     "text": [
      "sorted list: [88, 55, 51, 15, 6, 1]\n"
     ]
    }
   ],
   "source": [
    "list=[1,15,6,88,51,55]\n",
    "list.sort(reverse=True)\n",
    "print('sorted list:',list)"
   ]
  },
  {
   "cell_type": "code",
   "execution_count": 2,
   "id": "de05cee5",
   "metadata": {},
   "outputs": [
    {
     "data": {
      "text/plain": [
       "5"
      ]
     },
     "execution_count": 2,
     "metadata": {},
     "output_type": "execute_result"
    }
   ],
   "source": [
    "list=[1,2,3,4,5]\n",
    "len(list)\n"
   ]
  },
  {
   "cell_type": "code",
   "execution_count": null,
   "id": "1adb73a4",
   "metadata": {},
   "outputs": [],
   "source": []
  },
  {
   "cell_type": "code",
   "execution_count": 60,
   "id": "a1e8f4c9",
   "metadata": {},
   "outputs": [
    {
     "name": "stdout",
     "output_type": "stream",
     "text": [
      "original list: [10, 50, 60, 70, 40]\n"
     ]
    }
   ],
   "source": [
    "list=[10,50,60,70,40]\n",
    "print('original list:',list)"
   ]
  },
  {
   "cell_type": "code",
   "execution_count": 61,
   "id": "3e48fd32",
   "metadata": {},
   "outputs": [
    {
     "name": "stdout",
     "output_type": "stream",
     "text": [
      "reversed_list: [10, 70, 60, 50, 10]\n"
     ]
    }
   ],
   "source": [
    "list=[10,50,60,70,10]\n",
    "reversed_list=list[::-1]\n",
    "print('reversed_list:',reversed_list)"
   ]
  },
  {
   "cell_type": "code",
   "execution_count": null,
   "id": "7e1a1a5f",
   "metadata": {},
   "outputs": [],
   "source": []
  }
 ],
 "metadata": {
  "kernelspec": {
   "display_name": "Python 3 (ipykernel)",
   "language": "python",
   "name": "python3"
  },
  "language_info": {
   "codemirror_mode": {
    "name": "ipython",
    "version": 3
   },
   "file_extension": ".py",
   "mimetype": "text/x-python",
   "name": "python",
   "nbconvert_exporter": "python",
   "pygments_lexer": "ipython3",
   "version": "3.9.12"
  }
 },
 "nbformat": 4,
 "nbformat_minor": 5
}
