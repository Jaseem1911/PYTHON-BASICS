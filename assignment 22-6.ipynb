{
 "cells": [
  {
   "cell_type": "code",
   "execution_count": 1,
   "id": "a2cc4cf6",
   "metadata": {},
   "outputs": [
    {
     "data": {
      "text/plain": [
       "{1, 2, 3, 4}"
      ]
     },
     "execution_count": 1,
     "metadata": {},
     "output_type": "execute_result"
    }
   ],
   "source": [
    "s=set([1,2,3,4])\n",
    "s\n"
   ]
  },
  {
   "cell_type": "code",
   "execution_count": 2,
   "id": "03d9acb7",
   "metadata": {},
   "outputs": [
    {
     "data": {
      "text/plain": [
       "True"
      ]
     },
     "execution_count": 2,
     "metadata": {},
     "output_type": "execute_result"
    }
   ],
   "source": [
    "s=set([1,2,3,4])\n",
    "3 in s\n"
   ]
  },
  {
   "cell_type": "code",
   "execution_count": 8,
   "id": "e755287d",
   "metadata": {},
   "outputs": [
    {
     "data": {
      "text/plain": [
       "{1, 2, 3, 4, 5}"
      ]
     },
     "execution_count": 8,
     "metadata": {},
     "output_type": "execute_result"
    }
   ],
   "source": [
    "s=set([1,2,3,4])\n",
    "s.add(5)\n",
    "s\n",
    "     "
   ]
  },
  {
   "cell_type": "code",
   "execution_count": 4,
   "id": "6110262a",
   "metadata": {},
   "outputs": [
    {
     "data": {
      "text/plain": [
       "{2, 3, 4, 5}"
      ]
     },
     "execution_count": 4,
     "metadata": {},
     "output_type": "execute_result"
    }
   ],
   "source": [
    "s=set([1,2,3,4,5])\n",
    "s.remove(1)\n",
    "s"
   ]
  },
  {
   "cell_type": "code",
   "execution_count": 5,
   "id": "ec980794",
   "metadata": {},
   "outputs": [
    {
     "data": {
      "text/plain": [
       "{1, 2, 3, 4, 5, 6, 7, 8, 9}"
      ]
     },
     "execution_count": 5,
     "metadata": {},
     "output_type": "execute_result"
    }
   ],
   "source": [
    "s1=set([1,2,3,4,5,6])\n",
    "s2=set([5,6,7,8,9])\n",
    "s1|s2"
   ]
  },
  {
   "cell_type": "code",
   "execution_count": 6,
   "id": "30585fad",
   "metadata": {},
   "outputs": [
    {
     "data": {
      "text/plain": [
       "{5, 6}"
      ]
     },
     "execution_count": 6,
     "metadata": {},
     "output_type": "execute_result"
    }
   ],
   "source": [
    "s1=set([1,2,3,4,5,6])\n",
    "s2=set([5,6,7,8,9])\n",
    "s1&s2"
   ]
  },
  {
   "cell_type": "code",
   "execution_count": 7,
   "id": "696a2ba6",
   "metadata": {},
   "outputs": [
    {
     "data": {
      "text/plain": [
       "{1, 2, 3, 4, 7, 8, 9}"
      ]
     },
     "execution_count": 7,
     "metadata": {},
     "output_type": "execute_result"
    }
   ],
   "source": [
    "s1=set([1,2,3,4,5,6])\n",
    "s2=set([5,6,7,8,9])\n",
    "s1^s2"
   ]
  },
  {
   "cell_type": "code",
   "execution_count": 8,
   "id": "c41db98b",
   "metadata": {},
   "outputs": [
    {
     "data": {
      "text/plain": [
       "{1, 2, 3, 4}"
      ]
     },
     "execution_count": 8,
     "metadata": {},
     "output_type": "execute_result"
    }
   ],
   "source": [
    "s1=set([1,2,3,4,5,6])\n",
    "s2=set([5,6,7,8,9])\n",
    "s1-s2"
   ]
  },
  {
   "cell_type": "code",
   "execution_count": 9,
   "id": "7a977097",
   "metadata": {},
   "outputs": [
    {
     "data": {
      "text/plain": [
       "True"
      ]
     },
     "execution_count": 9,
     "metadata": {},
     "output_type": "execute_result"
    }
   ],
   "source": [
    "s=set([0,1,2,3,4])\n",
    "s.issubset([0,1,2,3,4,5,6,7,8,9])"
   ]
  },
  {
   "cell_type": "code",
   "execution_count": 10,
   "id": "f736f7ce",
   "metadata": {},
   "outputs": [
    {
     "data": {
      "text/plain": [
       "{1, 3, 5, 7, 9}"
      ]
     },
     "execution_count": 10,
     "metadata": {},
     "output_type": "execute_result"
    }
   ],
   "source": [
    "s=set([1,3,5,7,9])\n",
    "s.copy()"
   ]
  },
  {
   "cell_type": "code",
   "execution_count": 11,
   "id": "0fbd80fc",
   "metadata": {},
   "outputs": [],
   "source": [
    "s=set([1,3,5,7,9,11])\n",
    "s.clear()"
   ]
  },
  {
   "cell_type": "code",
   "execution_count": 12,
   "id": "6d882181",
   "metadata": {},
   "outputs": [
    {
     "data": {
      "text/plain": [
       "13"
      ]
     },
     "execution_count": 12,
     "metadata": {},
     "output_type": "execute_result"
    }
   ],
   "source": [
    "s=set([1,2,3,4,5,9,11,15,18,19,20,24,28])\n",
    "len(s)"
   ]
  },
  {
   "cell_type": "code",
   "execution_count": 13,
   "id": "112ea8d5",
   "metadata": {},
   "outputs": [
    {
     "data": {
      "text/plain": [
       "set()"
      ]
     },
     "execution_count": 13,
     "metadata": {},
     "output_type": "execute_result"
    }
   ],
   "source": [
    "s1=set([1,2,3,4])\n",
    "s2=set([5,6,7,8])\n",
    "s1&s2"
   ]
  },
  {
   "cell_type": "code",
   "execution_count": 14,
   "id": "701175e8",
   "metadata": {},
   "outputs": [
    {
     "name": "stdout",
     "output_type": "stream",
     "text": [
      "name: jaseem\n",
      "age: 21\n",
      "place: vadakara\n"
     ]
    }
   ],
   "source": [
    "dict={'name':'jaseem','age':21}\n",
    "dict['place']=\"vadakara\"\n",
    "print(\"name:\",dict['name'])\n",
    "print(\"age:\",dict['age'])\n",
    "print(\"place:\",dict['place'])"
   ]
  },
  {
   "cell_type": "code",
   "execution_count": 15,
   "id": "0d3ff957",
   "metadata": {},
   "outputs": [
    {
     "data": {
      "text/plain": [
       "{'name': 'jaseem', 'age': 21}"
      ]
     },
     "execution_count": 15,
     "metadata": {},
     "output_type": "execute_result"
    }
   ],
   "source": [
    "dict={'name':'jaseem','age':21,'place':'vadakara'}\n",
    "del dict['place']\n",
    "dict"
   ]
  },
  {
   "cell_type": "code",
   "execution_count": 16,
   "id": "e2cc3c58",
   "metadata": {},
   "outputs": [
    {
     "data": {
      "text/plain": [
       "{'name': 'jaseem', 'age': 21, 'place': ' '}"
      ]
     },
     "execution_count": 16,
     "metadata": {},
     "output_type": "execute_result"
    }
   ],
   "source": [
    "dict={'name':'jaseem','age':21}\n",
    "dict['place']=' '\n",
    "dict"
   ]
  },
  {
   "cell_type": "code",
   "execution_count": 17,
   "id": "3b751421",
   "metadata": {},
   "outputs": [
    {
     "data": {
      "text/plain": [
       "245"
      ]
     },
     "execution_count": 17,
     "metadata": {},
     "output_type": "execute_result"
    }
   ],
   "source": [
    "dict={'maths':80,'science':80,'english':85}\n",
    "a=dict.values()\n",
    "sum(a)"
   ]
  },
  {
   "cell_type": "code",
   "execution_count": 174,
   "id": "85f2a90f",
   "metadata": {},
   "outputs": [
    {
     "name": "stdout",
     "output_type": "stream",
     "text": [
      "2\n",
      "16\n",
      "64\n"
     ]
    }
   ],
   "source": [
    "s={'maths':2,'science':8,'english':4}\n",
    "a=1\n",
    "for i in s:\n",
    "    a=a*s[i]\n",
    "    print(a)"
   ]
  },
  {
   "cell_type": "code",
   "execution_count": 19,
   "id": "26314344",
   "metadata": {},
   "outputs": [
    {
     "data": {
      "text/plain": [
       "[2, 4]"
      ]
     },
     "execution_count": 19,
     "metadata": {},
     "output_type": "execute_result"
    }
   ],
   "source": [
    "a=set([1,2,3,4])\n",
    "b=set([2,4,6,8])\n",
    "list(a&b)\n"
   ]
  },
  {
   "cell_type": "code",
   "execution_count": 105,
   "id": "c440a23e",
   "metadata": {},
   "outputs": [
    {
     "name": "stdout",
     "output_type": "stream",
     "text": [
      "1\n",
      "2\n",
      "6\n",
      "24\n"
     ]
    }
   ],
   "source": [
    "t=[1,2,3,4]\n",
    "a=1\n",
    "for i in t:\n",
    "    a=a*i\n",
    "    print(a)"
   ]
  },
  {
   "cell_type": "code",
   "execution_count": 21,
   "id": "905be0b4",
   "metadata": {},
   "outputs": [
    {
     "name": "stdout",
     "output_type": "stream",
     "text": [
      "['g', 'o', 'o', 'd']\n"
     ]
    }
   ],
   "source": [
    "a=\"good\"\n",
    "b=list(a)\n",
    "print(b)"
   ]
  },
  {
   "cell_type": "code",
   "execution_count": 22,
   "id": "d4647f6a",
   "metadata": {},
   "outputs": [
    {
     "data": {
      "text/plain": [
       "{'blue', 'green', 'orange'}"
      ]
     },
     "execution_count": 22,
     "metadata": {},
     "output_type": "execute_result"
    }
   ],
   "source": [
    "color_1=set(['red','green','blue','orange'])\n",
    "color_2=set(['black','red','white','yellow'])\n",
    "color_1-color_2"
   ]
  },
  {
   "cell_type": "code",
   "execution_count": 23,
   "id": "3ef65a28",
   "metadata": {},
   "outputs": [
    {
     "data": {
      "text/plain": [
       "{1, 2, 3, 4, 5, 6, 7, 8}"
      ]
     },
     "execution_count": 23,
     "metadata": {},
     "output_type": "execute_result"
    }
   ],
   "source": [
    "s=set([1,2,3,4])\n",
    "r=set((5,6,7,8))\n",
    "s|r"
   ]
  },
  {
   "cell_type": "code",
   "execution_count": 94,
   "id": "65709b4f",
   "metadata": {},
   "outputs": [
    {
     "name": "stdout",
     "output_type": "stream",
     "text": [
      "number 1 9\n",
      "number 2 9\n",
      "number 3 9\n",
      "27\n"
     ]
    }
   ],
   "source": [
    "a=int(input(\"number 1 \"))\n",
    "b=int(input(\"number 2 \"))\n",
    "c=int(input(\"number 3 \"))\n",
    "if a==b==c:\n",
    "    print(a*3)\n",
    "else:\n",
    "    print(a+b+c)"
   ]
  },
  {
   "cell_type": "code",
   "execution_count": 98,
   "id": "e8a22033",
   "metadata": {},
   "outputs": [
    {
     "name": "stdout",
     "output_type": "stream",
     "text": [
      "2\n",
      "4\n",
      "12\n",
      "72\n",
      "360\n"
     ]
    }
   ],
   "source": [
    "s=[2,2,3,6,5]\n",
    "a=1\n",
    "for i in s:\n",
    "    a=a*i\n",
    "    print(a)"
   ]
  },
  {
   "cell_type": "code",
   "execution_count": 116,
   "id": "56bbfe62",
   "metadata": {},
   "outputs": [
    {
     "data": {
      "text/plain": [
       "'meesaj sabba'"
      ]
     },
     "execution_count": 116,
     "metadata": {},
     "output_type": "execute_result"
    }
   ],
   "source": [
    "a=\"jaseem\"\n",
    "reversed_a=a[::-1] \n",
    "b=\"abbas\"\n",
    "reversed_b=b[::-1]\n",
    "c=reversed_a  \n",
    "d=' '\n",
    "e=reversed_b\n",
    "c+d+e"
   ]
  },
  {
   "cell_type": "code",
   "execution_count": 18,
   "id": "dff6d87b",
   "metadata": {},
   "outputs": [
    {
     "data": {
      "text/plain": [
       "'bood gook'"
      ]
     },
     "execution_count": 18,
     "metadata": {},
     "output_type": "execute_result"
    }
   ],
   "source": [
    "a=\"good\"\n",
    "b=\"book\"\n",
    "c=' '\n",
    "d=a.replace(\"go\",\"bo\")\n",
    "e=b.replace(\"bo\",\"go\") \n",
    "d+c+e"
   ]
  },
  {
   "cell_type": "code",
   "execution_count": null,
   "id": "36a9141a",
   "metadata": {},
   "outputs": [],
   "source": []
  },
  {
   "cell_type": "code",
   "execution_count": null,
   "id": "ac0764b5",
   "metadata": {},
   "outputs": [],
   "source": []
  },
  {
   "cell_type": "code",
   "execution_count": null,
   "id": "31c51d7c",
   "metadata": {},
   "outputs": [],
   "source": []
  }
 ],
 "metadata": {
  "kernelspec": {
   "display_name": "Python 3 (ipykernel)",
   "language": "python",
   "name": "python3"
  },
  "language_info": {
   "codemirror_mode": {
    "name": "ipython",
    "version": 3
   },
   "file_extension": ".py",
   "mimetype": "text/x-python",
   "name": "python",
   "nbconvert_exporter": "python",
   "pygments_lexer": "ipython3",
   "version": "3.9.12"
  }
 },
 "nbformat": 4,
 "nbformat_minor": 5
}
