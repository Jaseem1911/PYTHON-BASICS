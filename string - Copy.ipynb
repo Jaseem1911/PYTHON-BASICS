{
 "cells": [
  {
   "cell_type": "code",
   "execution_count": 5,
   "id": "c8ea9944",
   "metadata": {},
   "outputs": [
    {
     "name": "stdout",
     "output_type": "stream",
     "text": [
      "string is\n"
     ]
    }
   ],
   "source": [
    "str=\"string is example\"\n",
    "print(str[0:9])"
   ]
  },
  {
   "cell_type": "code",
   "execution_count": 14,
   "id": "c14d96e9",
   "metadata": {},
   "outputs": [
    {
     "data": {
      "text/plain": [
       "1"
      ]
     },
     "execution_count": 14,
     "metadata": {},
     "output_type": "execute_result"
    }
   ],
   "source": [
    "str=\"this is string wow\"\n",
    "sub=\"wow\"\n",
    "str.count(sub)"
   ]
  },
  {
   "cell_type": "code",
   "execution_count": 9,
   "id": "322f60ba",
   "metadata": {},
   "outputs": [
    {
     "data": {
      "text/plain": [
       "15"
      ]
     },
     "execution_count": 9,
     "metadata": {},
     "output_type": "execute_result"
    }
   ],
   "source": [
    "str=\"my name is john\"\n",
    "len(str)"
   ]
  },
  {
   "cell_type": "code",
   "execution_count": 10,
   "id": "7428e557",
   "metadata": {},
   "outputs": [
    {
     "data": {
      "text/plain": [
       "'This is my book'"
      ]
     },
     "execution_count": 10,
     "metadata": {},
     "output_type": "execute_result"
    }
   ],
   "source": [
    "str=\"tHiS is MY bOoK\"\n",
    "str.capitalize()"
   ]
  },
  {
   "cell_type": "code",
   "execution_count": 11,
   "id": "dce5f7c6",
   "metadata": {},
   "outputs": [
    {
     "data": {
      "text/plain": [
       "'I Am Muhammed'"
      ]
     },
     "execution_count": 11,
     "metadata": {},
     "output_type": "execute_result"
    }
   ],
   "source": [
    "str=\"i am muhammed\"\n",
    "str.title()"
   ]
  },
  {
   "cell_type": "code",
   "execution_count": 12,
   "id": "95827561",
   "metadata": {},
   "outputs": [
    {
     "data": {
      "text/plain": [
       "'WHO ARE YOU'"
      ]
     },
     "execution_count": 12,
     "metadata": {},
     "output_type": "execute_result"
    }
   ],
   "source": [
    "str=\"who are you\"\n",
    "str.upper()"
   ]
  },
  {
   "cell_type": "code",
   "execution_count": 13,
   "id": "185d82a8",
   "metadata": {},
   "outputs": [
    {
     "data": {
      "text/plain": [
       "'i am fine'"
      ]
     },
     "execution_count": 13,
     "metadata": {},
     "output_type": "execute_result"
    }
   ],
   "source": [
    "str=\"I AM FINE\"\n",
    "str.lower()"
   ]
  },
  {
   "cell_type": "code",
   "execution_count": 3,
   "id": "74bca2a5",
   "metadata": {},
   "outputs": [
    {
     "data": {
      "text/plain": [
       "3"
      ]
     },
     "execution_count": 3,
     "metadata": {},
     "output_type": "execute_result"
    }
   ],
   "source": [
    "str=\"my name is madhav\"\n",
    "sub=\"m\"\n",
    "str.count(sub)"
   ]
  },
  {
   "cell_type": "code",
   "execution_count": 18,
   "id": "faa5f280",
   "metadata": {},
   "outputs": [
    {
     "data": {
      "text/plain": [
       "15"
      ]
     },
     "execution_count": 18,
     "metadata": {},
     "output_type": "execute_result"
    }
   ],
   "source": [
    "str1=\"this string is example\"\n",
    "str2=\"exam\"\n",
    "str1.find(str2)"
   ]
  },
  {
   "cell_type": "code",
   "execution_count": 24,
   "id": "479ffa42",
   "metadata": {},
   "outputs": [
    {
     "data": {
      "text/plain": [
       "-1"
      ]
     },
     "execution_count": 24,
     "metadata": {},
     "output_type": "execute_result"
    }
   ],
   "source": [
    "str1=\"this string is example\"\n",
    "str2=\"find\"\n",
    "str1.find(str2)"
   ]
  },
  {
   "cell_type": "code",
   "execution_count": 23,
   "id": "5116409c",
   "metadata": {},
   "outputs": [
    {
     "data": {
      "text/plain": [
       "15"
      ]
     },
     "execution_count": 23,
     "metadata": {},
     "output_type": "execute_result"
    }
   ],
   "source": [
    "str1=\"this string is example\"\n",
    "str2=\"exam\"\n",
    "str1.index(str2,0,20)"
   ]
  },
  {
   "cell_type": "code",
   "execution_count": 25,
   "id": "67098415",
   "metadata": {},
   "outputs": [
    {
     "ename": "ValueError",
     "evalue": "substring not found",
     "output_type": "error",
     "traceback": [
      "\u001b[1;31m---------------------------------------------------------------------------\u001b[0m",
      "\u001b[1;31mValueError\u001b[0m                                Traceback (most recent call last)",
      "Input \u001b[1;32mIn [25]\u001b[0m, in \u001b[0;36m<cell line: 3>\u001b[1;34m()\u001b[0m\n\u001b[0;32m      1\u001b[0m str1\u001b[38;5;241m=\u001b[39m\u001b[38;5;124m\"\u001b[39m\u001b[38;5;124mthis string is example\u001b[39m\u001b[38;5;124m\"\u001b[39m\n\u001b[0;32m      2\u001b[0m str2\u001b[38;5;241m=\u001b[39m\u001b[38;5;124m\"\u001b[39m\u001b[38;5;124mwho\u001b[39m\u001b[38;5;124m\"\u001b[39m\n\u001b[1;32m----> 3\u001b[0m \u001b[43mstr1\u001b[49m\u001b[38;5;241;43m.\u001b[39;49m\u001b[43mindex\u001b[49m\u001b[43m(\u001b[49m\u001b[43mstr2\u001b[49m\u001b[43m)\u001b[49m\n",
      "\u001b[1;31mValueError\u001b[0m: substring not found"
     ]
    }
   ],
   "source": [
    "str1=\"this string is example\"\n",
    "str2=\"who\"\n",
    "str1.index(str2)"
   ]
  },
  {
   "cell_type": "code",
   "execution_count": 1,
   "id": "d4c0c6a1",
   "metadata": {},
   "outputs": [
    {
     "data": {
      "text/plain": [
       "True"
      ]
     },
     "execution_count": 1,
     "metadata": {},
     "output_type": "execute_result"
    }
   ],
   "source": [
    "str=\"this2009\"\n",
    "str.isalnum()"
   ]
  },
  {
   "cell_type": "code",
   "execution_count": 2,
   "id": "4ada4e4d",
   "metadata": {},
   "outputs": [
    {
     "data": {
      "text/plain": [
       "False"
      ]
     },
     "execution_count": 2,
     "metadata": {},
     "output_type": "execute_result"
    }
   ],
   "source": [
    "str=\"this is string\"\n",
    "str.isalnum()"
   ]
  },
  {
   "cell_type": "code",
   "execution_count": 3,
   "id": "334a82c2",
   "metadata": {},
   "outputs": [
    {
     "data": {
      "text/plain": [
       "True"
      ]
     },
     "execution_count": 3,
     "metadata": {},
     "output_type": "execute_result"
    }
   ],
   "source": [
    "str=\"this\"\n",
    "str.isalpha()"
   ]
  },
  {
   "cell_type": "code",
   "execution_count": 4,
   "id": "82b3ecd9",
   "metadata": {},
   "outputs": [
    {
     "data": {
      "text/plain": [
       "False"
      ]
     },
     "execution_count": 4,
     "metadata": {},
     "output_type": "execute_result"
    }
   ],
   "source": [
    "str=\"this is wow!!\"\n",
    "str.isalpha()"
   ]
  },
  {
   "cell_type": "code",
   "execution_count": 5,
   "id": "56c34cf2",
   "metadata": {},
   "outputs": [
    {
     "data": {
      "text/plain": [
       "False"
      ]
     },
     "execution_count": 5,
     "metadata": {},
     "output_type": "execute_result"
    }
   ],
   "source": [
    "str=\"this2009\"\n",
    "str.isdigit()"
   ]
  },
  {
   "cell_type": "code",
   "execution_count": 6,
   "id": "f72b82a4",
   "metadata": {},
   "outputs": [
    {
     "data": {
      "text/plain": [
       "True"
      ]
     },
     "execution_count": 6,
     "metadata": {},
     "output_type": "execute_result"
    }
   ],
   "source": [
    "str=\"2009\"\n",
    "str.isdigit()"
   ]
  },
  {
   "cell_type": "code",
   "execution_count": 7,
   "id": "bbbb7208",
   "metadata": {},
   "outputs": [
    {
     "data": {
      "text/plain": [
       "True"
      ]
     },
     "execution_count": 7,
     "metadata": {},
     "output_type": "execute_result"
    }
   ],
   "source": [
    "str=\"THIS IS STRING\"\n",
    "str.isupper()"
   ]
  },
  {
   "cell_type": "code",
   "execution_count": 8,
   "id": "b4ef7515",
   "metadata": {},
   "outputs": [
    {
     "data": {
      "text/plain": [
       "False"
      ]
     },
     "execution_count": 8,
     "metadata": {},
     "output_type": "execute_result"
    }
   ],
   "source": [
    "str=\"this is string\"\n",
    "str.isupper()"
   ]
  },
  {
   "cell_type": "code",
   "execution_count": 9,
   "id": "4f5bb766",
   "metadata": {},
   "outputs": [
    {
     "data": {
      "text/plain": [
       "False"
      ]
     },
     "execution_count": 9,
     "metadata": {},
     "output_type": "execute_result"
    }
   ],
   "source": [
    "str=\"THIS is string\"\n",
    "str.islower()"
   ]
  },
  {
   "cell_type": "code",
   "execution_count": 4,
   "id": "4407b800",
   "metadata": {},
   "outputs": [
    {
     "data": {
      "text/plain": [
       "True"
      ]
     },
     "execution_count": 4,
     "metadata": {},
     "output_type": "execute_result"
    }
   ],
   "source": [
    "str=\"this is string\"\n",
    "str.islower()"
   ]
  },
  {
   "cell_type": "code",
   "execution_count": 5,
   "id": "7d43939f",
   "metadata": {},
   "outputs": [
    {
     "data": {
      "text/plain": [
       "True"
      ]
     },
     "execution_count": 5,
     "metadata": {},
     "output_type": "execute_result"
    }
   ],
   "source": [
    "str=\"this 2009\"\n",
    "str.islower()"
   ]
  },
  {
   "cell_type": "code",
   "execution_count": 12,
   "id": "77f10523",
   "metadata": {},
   "outputs": [
    {
     "data": {
      "text/plain": [
       "False"
      ]
     },
     "execution_count": 12,
     "metadata": {},
     "output_type": "execute_result"
    }
   ],
   "source": [
    "str=\"2009\"\n",
    "str.islower()"
   ]
  },
  {
   "cell_type": "code",
   "execution_count": 10,
   "id": "b1c41733",
   "metadata": {},
   "outputs": [
    {
     "data": {
      "text/plain": [
       "True"
      ]
     },
     "execution_count": 10,
     "metadata": {},
     "output_type": "execute_result"
    }
   ],
   "source": [
    "str=\" \"\n",
    "str.isspace()"
   ]
  },
  {
   "cell_type": "code",
   "execution_count": 15,
   "id": "0e5d22e3",
   "metadata": {},
   "outputs": [
    {
     "data": {
      "text/plain": [
       "False"
      ]
     },
     "execution_count": 15,
     "metadata": {},
     "output_type": "execute_result"
    }
   ],
   "source": [
    "str=\"string\"\n",
    "str.isspace()"
   ]
  },
  {
   "cell_type": "code",
   "execution_count": 16,
   "id": "fbf5506d",
   "metadata": {},
   "outputs": [
    {
     "data": {
      "text/plain": [
       "True"
      ]
     },
     "execution_count": 16,
     "metadata": {},
     "output_type": "execute_result"
    }
   ],
   "source": [
    "str=\"This Is String\"\n",
    "str.istitle()"
   ]
  },
  {
   "cell_type": "code",
   "execution_count": 17,
   "id": "4f0022a6",
   "metadata": {},
   "outputs": [
    {
     "data": {
      "text/plain": [
       "False"
      ]
     },
     "execution_count": 17,
     "metadata": {},
     "output_type": "execute_result"
    }
   ],
   "source": [
    "str=\"this Is string\"\n",
    "str.istitle()"
   ]
  },
  {
   "cell_type": "code",
   "execution_count": 18,
   "id": "f4e1fca5",
   "metadata": {},
   "outputs": [
    {
     "data": {
      "text/plain": [
       "'this is string'"
      ]
     },
     "execution_count": 18,
     "metadata": {},
     "output_type": "execute_result"
    }
   ],
   "source": [
    "str=\"00000this is string00000\"\n",
    "str.strip('0')"
   ]
  },
  {
   "cell_type": "code",
   "execution_count": 19,
   "id": "ea62db59",
   "metadata": {},
   "outputs": [
    {
     "data": {
      "text/plain": [
       "('thi', 's', ' is string')"
      ]
     },
     "execution_count": 19,
     "metadata": {},
     "output_type": "execute_result"
    }
   ],
   "source": [
    "str=\"this is string\"\n",
    "str.partition('s')"
   ]
  },
  {
   "cell_type": "code",
   "execution_count": 20,
   "id": "777f369e",
   "metadata": {},
   "outputs": [
    {
     "data": {
      "text/plain": [
       "['this', 'is', 'my', 'book']"
      ]
     },
     "execution_count": 20,
     "metadata": {},
     "output_type": "execute_result"
    }
   ],
   "source": [
    "str=\"this is my book\"\n",
    "str.split()"
   ]
  },
  {
   "cell_type": "code",
   "execution_count": 21,
   "id": "5366b2cc",
   "metadata": {},
   "outputs": [
    {
     "data": {
      "text/plain": [
       "'tHIS IS STRING'"
      ]
     },
     "execution_count": 21,
     "metadata": {},
     "output_type": "execute_result"
    }
   ],
   "source": [
    "str=\"This is string\"\n",
    "str.swapcase()"
   ]
  },
  {
   "cell_type": "code",
   "execution_count": 11,
   "id": "c65f5672",
   "metadata": {},
   "outputs": [
    {
     "data": {
      "text/plain": [
       "'h*e*l*l*o* *h*i'"
      ]
     },
     "execution_count": 11,
     "metadata": {},
     "output_type": "execute_result"
    }
   ],
   "source": [
    "str=\"hello hi\"\n",
    "t='*'\n",
    "t.join(str)"
   ]
  },
  {
   "cell_type": "code",
   "execution_count": 13,
   "id": "cb80bc5c",
   "metadata": {},
   "outputs": [
    {
     "data": {
      "text/plain": [
       "'this was string...this was really string'"
      ]
     },
     "execution_count": 13,
     "metadata": {},
     "output_type": "execute_result"
    }
   ],
   "source": [
    "str=\"this is string...this is really string\"\n",
    "\n",
    "str.replace(\" is\",\" was\")"
   ]
  },
  {
   "cell_type": "code",
   "execution_count": null,
   "id": "05399373",
   "metadata": {},
   "outputs": [],
   "source": []
  }
 ],
 "metadata": {
  "kernelspec": {
   "display_name": "Python 3 (ipykernel)",
   "language": "python",
   "name": "python3"
  },
  "language_info": {
   "codemirror_mode": {
    "name": "ipython",
    "version": 3
   },
   "file_extension": ".py",
   "mimetype": "text/x-python",
   "name": "python",
   "nbconvert_exporter": "python",
   "pygments_lexer": "ipython3",
   "version": "3.9.12"
  }
 },
 "nbformat": 4,
 "nbformat_minor": 5
}
