{
 "cells": [
  {
   "cell_type": "code",
   "execution_count": 112,
   "id": "7c7f1e72",
   "metadata": {},
   "outputs": [
    {
     "name": "stdout",
     "output_type": "stream",
     "text": [
      "Name of student is Sanju and Roll no is 3\n"
     ]
    }
   ],
   "source": [
    "class student: \n",
    "    def __init__(self,name,rollno):\n",
    "        self.name=name\n",
    "        self.rollno=rollno\n",
    "    def display(self):\n",
    "        print(\"Name of student is {} and Roll no is {}\".format(self.name,self.rollno))\n",
    "s1=student(\"Jos\",1)\n",
    "s2=student(\"Buttler\",2)\n",
    "s3=student(\"Sanju\",3)\n",
    "s3.display()\n",
    "\n"
   ]
  },
  {
   "cell_type": "code",
   "execution_count": 115,
   "id": "10f6d169",
   "metadata": {},
   "outputs": [
    {
     "name": "stdout",
     "output_type": "stream",
     "text": [
      "Jos is 10 years old\n",
      "Jos got 80 marks\n"
     ]
    }
   ],
   "source": [
    "class student:\n",
    "    def __init__(self,name,age,marks):\n",
    "        self.name=name\n",
    "        self.age=age\n",
    "        self.marks=marks\n",
    "    def setAge(self):\n",
    "        print(\"{} is {} years old\".format(self.name,self.age))\n",
    "    def setMarks(self):\n",
    "        print(\"{} got {} marks\".format(self.name,self.marks))\n",
    "s1=student(\"Jos\",10,80)\n",
    "s2=student(\"Buttler\",20,100)\n",
    "s3=student(\"Sanju\",23,68)\n",
    "s1.setAge()\n",
    "s1.setMarks()"
   ]
  },
  {
   "cell_type": "code",
   "execution_count": 3,
   "id": "d0d0eff6",
   "metadata": {},
   "outputs": [
    {
     "name": "stdout",
     "output_type": "stream",
     "text": [
      "enter the name josettan\n",
      "name is: josettan \n"
     ]
    }
   ],
   "source": [
    "class student:\n",
    "    def details(self):\n",
    "        self.name=input('enter the name ')\n",
    "        \n",
    "    def place(self):\n",
    "        print(\"name is: {} \".format(self.name))\n",
    "\n",
    "obj=student()\n",
    "obj.details()\n",
    "obj.place()\n",
    "    "
   ]
  },
  {
   "cell_type": "code",
   "execution_count": 7,
   "id": "9abef4df",
   "metadata": {},
   "outputs": [
    {
     "name": "stdout",
     "output_type": "stream",
     "text": [
      "15\n",
      "5\n",
      "50\n",
      "2.0\n"
     ]
    }
   ],
   "source": [
    "class calculation:\n",
    "    def __init__(self,a,b):\n",
    "        self.a=a\n",
    "        self.b=b\n",
    "    def add(self):\n",
    "        return self.a + self.b\n",
    "    def subtract(self):\n",
    "        return self.a - self.b\n",
    "    def multiply(self):\n",
    "        return self.a * self.b\n",
    "    def divide(self):\n",
    "        return self.a / self.b\n",
    "obj=calculation(10,5)\n",
    "print(obj.add())\n",
    "print(obj.subtract())\n",
    "print(obj.multiply())\n",
    "print(obj.divide())\n",
    "    "
   ]
  },
  {
   "cell_type": "code",
   "execution_count": 9,
   "id": "e658c11d",
   "metadata": {},
   "outputs": [
    {
     "name": "stdout",
     "output_type": "stream",
     "text": [
      "500\n"
     ]
    }
   ],
   "source": [
    "class area:\n",
    "    def __init__(self,l,b):\n",
    "        self.l=l\n",
    "        self.b=b\n",
    "    def rectangle(self):\n",
    "        return self.l * self.b\n",
    "obj=area(25,20)\n",
    "print(obj.rectangle())\n",
    "        "
   ]
  },
  {
   "cell_type": "code",
   "execution_count": 12,
   "id": "848cd088",
   "metadata": {},
   "outputs": [
    {
     "name": "stdout",
     "output_type": "stream",
     "text": [
      "37.68\n"
     ]
    }
   ],
   "source": [
    "class area:\n",
    "    def __init__(self,c):\n",
    "        self.c=c\n",
    "    def circle(self):\n",
    "        return 2*3.14*self.c\n",
    "obj=area(6)\n",
    "print(obj.circle())"
   ]
  },
  {
   "cell_type": "code",
   "execution_count": null,
   "id": "68659b1b",
   "metadata": {},
   "outputs": [],
   "source": []
  }
 ],
 "metadata": {
  "kernelspec": {
   "display_name": "Python 3 (ipykernel)",
   "language": "python",
   "name": "python3"
  },
  "language_info": {
   "codemirror_mode": {
    "name": "ipython",
    "version": 3
   },
   "file_extension": ".py",
   "mimetype": "text/x-python",
   "name": "python",
   "nbconvert_exporter": "python",
   "pygments_lexer": "ipython3",
   "version": "3.9.12"
  }
 },
 "nbformat": 4,
 "nbformat_minor": 5
}
