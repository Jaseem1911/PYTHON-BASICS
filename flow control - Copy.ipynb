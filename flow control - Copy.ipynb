{
 "cells": [
  {
   "cell_type": "code",
   "execution_count": 1,
   "id": "2fd6609e",
   "metadata": {},
   "outputs": [
    {
     "name": "stdout",
     "output_type": "stream",
     "text": [
      "3 is a positive number.\n",
      "this is always printed\n",
      "this is also always printed\n"
     ]
    }
   ],
   "source": [
    "num=3\n",
    "if num>0:\n",
    "    print(num,\"is a positive number.\")\n",
    "print(\"this is always printed\")\n",
    "num=-1\n",
    "if num>0:\n",
    "    print(num,\"is a positive number.\")\n",
    "print(\"this is also always printed\")"
   ]
  },
  {
   "cell_type": "code",
   "execution_count": 8,
   "id": "660e2aa4",
   "metadata": {},
   "outputs": [
    {
     "name": "stdout",
     "output_type": "stream",
     "text": [
      "enter the shopping Amount:1500\n",
      "discount= 150.0\n",
      "final Shopping Amount= 1350.0\n"
     ]
    }
   ],
   "source": [
    "shoppingAmount=int(input(\"enter the shopping Amount:\"))\n",
    "if shoppingAmount>1000:\n",
    "    discount=10/100*shoppingAmount\n",
    "    print(\"discount=\",discount)\n",
    "    shoppingAmount=shoppingAmount-discount\n",
    "print(\"final Shopping Amount=\",shoppingAmount)"
   ]
  },
  {
   "cell_type": "code",
   "execution_count": 12,
   "id": "4b614125",
   "metadata": {},
   "outputs": [
    {
     "name": "stdout",
     "output_type": "stream",
     "text": [
      "negative number\n"
     ]
    }
   ],
   "source": [
    "num=-5\n",
    "if num>=0:\n",
    "    print(\"positive or zero\")\n",
    "else:\n",
    "    print(\"negative number\")"
   ]
  },
  {
   "cell_type": "code",
   "execution_count": 1,
   "id": "ac1c98b3",
   "metadata": {},
   "outputs": [
    {
     "name": "stdout",
     "output_type": "stream",
     "text": [
      "enter a number: 90\n",
      "multiple of 5\n"
     ]
    }
   ],
   "source": [
    "s=int(input(\"enter a number: \"))\n",
    "if s%5==0:\n",
    "    print(\"multiple of 5\")\n",
    "else:\n",
    "    print(\"not multiple of 5\")"
   ]
  },
  {
   "cell_type": "code",
   "execution_count": 18,
   "id": "f587b690",
   "metadata": {},
   "outputs": [
    {
     "name": "stdout",
     "output_type": "stream",
     "text": [
      "positive\n"
     ]
    }
   ],
   "source": [
    "num=8\n",
    "if num>0:\n",
    "    print('positive')\n",
    "elif num<0:\n",
    "    print(\"negative\")\n",
    "else:\n",
    "    print(\"zero\")"
   ]
  },
  {
   "cell_type": "code",
   "execution_count": 31,
   "id": "be7f67e9",
   "metadata": {},
   "outputs": [
    {
     "name": "stdout",
     "output_type": "stream",
     "text": [
      "can vote only\n"
     ]
    }
   ],
   "source": [
    "age=22\n",
    "if age>25:\n",
    "    print(\"can vote and contest\")\n",
    "elif age>18:\n",
    "    print(\"can vote only\")\n",
    "else:\n",
    "    print(\"can't vote or contest\")"
   ]
  },
  {
   "cell_type": "code",
   "execution_count": 4,
   "id": "84b9a0f7",
   "metadata": {},
   "outputs": [
    {
     "name": "stdout",
     "output_type": "stream",
     "text": [
      "enter year: 2001\n",
      "not a leap year\n"
     ]
    }
   ],
   "source": [
    "year=int(input(\"enter year: \"))\n",
    "if year%4==0&year%100!=0:\n",
    "    print(\" leap year\")\n",
    "elif year%100==0&year%400==0:\n",
    "    print(\"leap year\")\n",
    "else:\n",
    "    print(\"not a leap year\")"
   ]
  },
  {
   "cell_type": "code",
   "execution_count": 4,
   "id": "8be1b1c4",
   "metadata": {},
   "outputs": [
    {
     "name": "stdout",
     "output_type": "stream",
     "text": [
      "enter a year: 2024\n",
      "2024 is a leap year\n"
     ]
    }
   ],
   "source": [
    "year=int(input(\"enter a year: \"))\n",
    "if(year%4)==0:\n",
    "    if(year%100)==0:\n",
    "        if(year%400)==0:\n",
    "            print(year,\"is a leap year\")\n",
    "        else:\n",
    "            print(year,\"is not a leap year\")\n",
    "    else:\n",
    "        print(year,\"is a leap year\")\n",
    "else:\n",
    "    print(year,\"is not a leap year\")"
   ]
  },
  {
   "cell_type": "code",
   "execution_count": 11,
   "id": "efd6af26",
   "metadata": {},
   "outputs": [
    {
     "name": "stdout",
     "output_type": "stream",
     "text": [
      "enter 1st number: 25\n",
      "enter 2nd number: 40\n",
      "GCD= 5\n"
     ]
    }
   ],
   "source": [
    "a=int(input(\"enter 1st number: \"))\n",
    "b=int(input(\"enter 2nd number: \"))\n",
    "while (a!=b):\n",
    "    if (a>b):\n",
    "        a-=b\n",
    "    else:\n",
    "        b-=a\n",
    "print(\"GCD=\",a)\n"
   ]
  },
  {
   "cell_type": "code",
   "execution_count": 13,
   "id": "d47f7de0",
   "metadata": {},
   "outputs": [
    {
     "name": "stdout",
     "output_type": "stream",
     "text": [
      "enter 1st number: 20\n",
      "enter 2nd number: 85\n",
      "GCD= 5\n"
     ]
    }
   ],
   "source": [
    "a=int(input(\"enter 1st number: \"))\n",
    "b=int(input(\"enter 2nd number: \"))\n",
    "while b!=0:\n",
    "    temp=a%b\n",
    "    a=b\n",
    "    b=temp\n",
    "print(\"GCD=\",a)\n"
   ]
  },
  {
   "cell_type": "code",
   "execution_count": 98,
   "id": "9547c4ac",
   "metadata": {},
   "outputs": [
    {
     "name": "stdout",
     "output_type": "stream",
     "text": [
      "enter a number: 9020777447\n",
      "number of digits=  10\n"
     ]
    }
   ],
   "source": [
    "num=int(input(\"enter a number: \"))\n",
    "digits=0\n",
    "while num!=0:\n",
    "    num=num//10;\n",
    "    digits=digits+1\n",
    "print(\"number of digits= \",digits)"
   ]
  },
  {
   "cell_type": "code",
   "execution_count": 25,
   "id": "3460d3a6",
   "metadata": {},
   "outputs": [
    {
     "name": "stdout",
     "output_type": "stream",
     "text": [
      "enter a number: 9\n",
      "not prime\n"
     ]
    }
   ],
   "source": [
    "n=int(input(\"enter a number: \"))\n",
    "      \n",
    "div=2\n",
    "flag=True\n",
    "while div<n:\n",
    "    if n%div==0:\n",
    "        flag=False\n",
    "    div=div+1\n",
    "if flag==True:\n",
    "    print(\"Prime\")\n",
    "else:\n",
    "    print(\"not prime\")"
   ]
  },
  {
   "cell_type": "code",
   "execution_count": 109,
   "id": "156587c8",
   "metadata": {},
   "outputs": [
    {
     "name": "stdout",
     "output_type": "stream",
     "text": [
      "The sum is 21\n"
     ]
    }
   ],
   "source": [
    "numbers=[1,2,3,4,5,6]\n",
    "totalSum=0\n",
    "for val in numbers:\n",
    "    totalSum=totalSum+val\n",
    "print(\"The sum is\",totalSum)"
   ]
  },
  {
   "cell_type": "code",
   "execution_count": 112,
   "id": "bd89474e",
   "metadata": {},
   "outputs": [
    {
     "name": "stdout",
     "output_type": "stream",
     "text": [
      "[0, 1, 2, 3, 4, 5, 6, 7, 8, 9]\n"
     ]
    }
   ],
   "source": [
    "print(list(range(10)))\n"
   ]
  },
  {
   "cell_type": "code",
   "execution_count": 113,
   "id": "4d9b5f83",
   "metadata": {},
   "outputs": [
    {
     "name": "stdout",
     "output_type": "stream",
     "text": [
      "[2, 3, 4, 5, 6, 7]\n"
     ]
    }
   ],
   "source": [
    "print(list(range(2,8)))"
   ]
  },
  {
   "cell_type": "code",
   "execution_count": 117,
   "id": "336dcbc3",
   "metadata": {},
   "outputs": [
    {
     "name": "stdout",
     "output_type": "stream",
     "text": [
      "[2, 5, 8, 11, 14, 17]\n"
     ]
    }
   ],
   "source": [
    "print(list(range(2,20,3)))"
   ]
  },
  {
   "cell_type": "code",
   "execution_count": 33,
   "id": "214bd733",
   "metadata": {},
   "outputs": [
    {
     "name": "stdout",
     "output_type": "stream",
     "text": [
      "enter the number: 49\n",
      "not prime\n"
     ]
    }
   ],
   "source": [
    "n=int(input(\"enter the number: \"))\n",
    "flag=True\n",
    "for div in range(2,n):\n",
    "    if n%div==0:\n",
    "        flag=False\n",
    "print(\"prime\" if flag==True else \"not prime\")"
   ]
  },
  {
   "cell_type": "code",
   "execution_count": 128,
   "id": "4395ebc9",
   "metadata": {},
   "outputs": [
    {
     "name": "stdout",
     "output_type": "stream",
     "text": [
      "enter a number: 5\n",
      "Factorial of 5 = 120\n"
     ]
    }
   ],
   "source": [
    "n=int(input(\"enter a number: \"))\n",
    "res=1\n",
    "for x in range(1,n+1):\n",
    "    res=res*x\n",
    "print('Factorial of',n,'=',res)"
   ]
  },
  {
   "cell_type": "code",
   "execution_count": 35,
   "id": "b99bf361",
   "metadata": {},
   "outputs": [
    {
     "name": "stdout",
     "output_type": "stream",
     "text": [
      "enter the number: 19\n",
      "div= 18\n",
      "prime\n"
     ]
    }
   ],
   "source": [
    "n=int(input(\"enter the number: \"))\n",
    "\n",
    "flag=True\n",
    "\n",
    "for div in range(2,n):\n",
    "    if n%div==0:\n",
    "        flag=False\n",
    "        break\n",
    "        \n",
    "print(\"div=\",div)\n",
    "print(\"prime\" if flag==True else \"Not prime\")"
   ]
  },
  {
   "cell_type": "code",
   "execution_count": 140,
   "id": "4d96be7f",
   "metadata": {},
   "outputs": [
    {
     "name": "stdout",
     "output_type": "stream",
     "text": [
      "1\n",
      "2\n",
      "4\n",
      "5\n",
      "7\n",
      "8\n",
      "the end\n"
     ]
    }
   ],
   "source": [
    "for val in range(10):\n",
    "    if val%3==0:\n",
    "        continue\n",
    "    print(val)\n",
    "print(\"the end\")"
   ]
  },
  {
   "cell_type": "code",
   "execution_count": 141,
   "id": "288b59ca",
   "metadata": {},
   "outputs": [
    {
     "name": "stdout",
     "output_type": "stream",
     "text": [
      "0\n",
      "1\n",
      "5\n",
      "no items left.\n"
     ]
    }
   ],
   "source": [
    "digits=[0,1,5]\n",
    "for i in digits:\n",
    "    print(i)\n",
    "else:\n",
    "    print(\"no items left.\")"
   ]
  },
  {
   "cell_type": "code",
   "execution_count": 156,
   "id": "c138a545",
   "metadata": {},
   "outputs": [
    {
     "name": "stdout",
     "output_type": "stream",
     "text": [
      "enter the number: 99\n",
      "not prime..divisible by 3\n"
     ]
    }
   ],
   "source": [
    "n=int(input(\"enter the number: \"))\n",
    "\n",
    "for div in range(2,n):\n",
    "    if n%div==0:\n",
    "        print(\"not prime..divisible by\",div)\n",
    "        break\n",
    "else:\n",
    "    print(\"prime\")"
   ]
  },
  {
   "cell_type": "code",
   "execution_count": 159,
   "id": "d6827bc6",
   "metadata": {},
   "outputs": [
    {
     "name": "stdout",
     "output_type": "stream",
     "text": [
      "enter lower range: 3\n",
      "enter upper range: 8\n",
      "prime numbers between 3 and 8 are:\n",
      "3\n",
      "5\n",
      "7\n"
     ]
    }
   ],
   "source": [
    "lower=int(input(\"enter lower range: \"))\n",
    "upper=int(input(\"enter upper range: \"))\n",
    "print(\"prime numbers between\",lower,\"and\",upper,\"are:\")\n",
    "for num in range(lower,upper+1):\n",
    "    if num>1:\n",
    "        for i in range(2,num):\n",
    "            if(num%i)==0:\n",
    "                break\n",
    "        else:\n",
    "                print(num)"
   ]
  },
  {
   "cell_type": "code",
   "execution_count": 155,
   "id": "9b880f8c",
   "metadata": {},
   "outputs": [
    {
     "name": "stdout",
     "output_type": "stream",
     "text": [
      "not prime..divisible by  3\n"
     ]
    }
   ],
   "source": [
    "n=9\n",
    "i=2\n",
    "while i<n:\n",
    "    if(n%i==0):\n",
    "        print('not prime..divisible by ',i)\n",
    "        break\n",
    "    i=i+1\n",
    "else:\n",
    "    print('number is prime')"
   ]
  },
  {
   "cell_type": "code",
   "execution_count": 160,
   "id": "b2627be6",
   "metadata": {},
   "outputs": [],
   "source": [
    "sequence={'p','a','s','s'}\n",
    "for val in sequence:\n",
    "    pass"
   ]
  },
  {
   "cell_type": "code",
   "execution_count": null,
   "id": "d005c255",
   "metadata": {},
   "outputs": [],
   "source": []
  }
 ],
 "metadata": {
  "kernelspec": {
   "display_name": "Python 3 (ipykernel)",
   "language": "python",
   "name": "python3"
  },
  "language_info": {
   "codemirror_mode": {
    "name": "ipython",
    "version": 3
   },
   "file_extension": ".py",
   "mimetype": "text/x-python",
   "name": "python",
   "nbconvert_exporter": "python",
   "pygments_lexer": "ipython3",
   "version": "3.9.12"
  }
 },
 "nbformat": 4,
 "nbformat_minor": 5
}
