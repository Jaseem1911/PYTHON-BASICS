{
 "cells": [
  {
   "cell_type": "code",
   "execution_count": 1,
   "id": "9ca482e5",
   "metadata": {},
   "outputs": [
    {
     "data": {
      "text/plain": [
       "20"
      ]
     },
     "execution_count": 1,
     "metadata": {},
     "output_type": "execute_result"
    }
   ],
   "source": [
    "t=20\n",
    "t"
   ]
  },
  {
   "cell_type": "code",
   "execution_count": 2,
   "id": "21e2e00d",
   "metadata": {},
   "outputs": [
    {
     "data": {
      "text/plain": [
       "(10, 'ravi')"
      ]
     },
     "execution_count": 2,
     "metadata": {},
     "output_type": "execute_result"
    }
   ],
   "source": [
    "t=(10,'ravi')\n",
    "t"
   ]
  },
  {
   "cell_type": "code",
   "execution_count": 3,
   "id": "8fa57c50",
   "metadata": {},
   "outputs": [
    {
     "data": {
      "text/plain": [
       "(20, 10, 0)"
      ]
     },
     "execution_count": 3,
     "metadata": {},
     "output_type": "execute_result"
    }
   ],
   "source": [
    "t=(20,10,0)\n",
    "t"
   ]
  },
  {
   "cell_type": "code",
   "execution_count": 12,
   "id": "e4c48670",
   "metadata": {},
   "outputs": [
    {
     "data": {
      "text/plain": [
       "('p', 'y', 't', 'h', 'o', 'n')"
      ]
     },
     "execution_count": 12,
     "metadata": {},
     "output_type": "execute_result"
    }
   ],
   "source": [
    "t=tuple('python')\n",
    "t"
   ]
  },
  {
   "cell_type": "code",
   "execution_count": 15,
   "id": "867260b9",
   "metadata": {},
   "outputs": [
    {
     "data": {
      "text/plain": [
       "(20, 30, 40)"
      ]
     },
     "execution_count": 15,
     "metadata": {},
     "output_type": "execute_result"
    }
   ],
   "source": [
    "t=(20,30)\n",
    "t+(40,)"
   ]
  },
  {
   "cell_type": "code",
   "execution_count": 16,
   "id": "9243dbb1",
   "metadata": {},
   "outputs": [
    {
     "data": {
      "text/plain": [
       "6"
      ]
     },
     "execution_count": 16,
     "metadata": {},
     "output_type": "execute_result"
    }
   ],
   "source": [
    "t=(20,30,40,50,60,70)\n",
    "len(t)"
   ]
  },
  {
   "cell_type": "code",
   "execution_count": 25,
   "id": "5d135d3f",
   "metadata": {},
   "outputs": [
    {
     "data": {
      "text/plain": [
       "'jaseem'"
      ]
     },
     "execution_count": 25,
     "metadata": {},
     "output_type": "execute_result"
    }
   ],
   "source": [
    "t=('j,a,s,e,e,m')\n",
    "t.replace(',','')\n"
   ]
  },
  {
   "cell_type": "code",
   "execution_count": 70,
   "id": "9d9d66f6",
   "metadata": {},
   "outputs": [
    {
     "name": "stdout",
     "output_type": "stream",
     "text": [
      "original t: (1, 2, 3, 4)\n"
     ]
    }
   ],
   "source": [
    "t=(1,2,3,4)\n",
    "print('original t:',t)"
   ]
  },
  {
   "cell_type": "code",
   "execution_count": 71,
   "id": "81e8aace",
   "metadata": {},
   "outputs": [
    {
     "name": "stdout",
     "output_type": "stream",
     "text": [
      "reversed_t: (4, 3, 2, 1)\n"
     ]
    }
   ],
   "source": [
    "reversed_t=t[::-1]\n",
    "print('reversed_t:',reversed_t)"
   ]
  },
  {
   "cell_type": "code",
   "execution_count": 48,
   "id": "20cd6363",
   "metadata": {},
   "outputs": [
    {
     "data": {
      "text/plain": [
       "'j,a,s,e,e'"
      ]
     },
     "execution_count": 48,
     "metadata": {},
     "output_type": "execute_result"
    }
   ],
   "source": [
    "str=\"jasee\"\n",
    "t=','\n",
    "t.join(str)"
   ]
  },
  {
   "cell_type": "code",
   "execution_count": 51,
   "id": "8facc037",
   "metadata": {},
   "outputs": [
    {
     "name": "stdout",
     "output_type": "stream",
     "text": [
      "['j', 'a', 's', 'e', 'e', 'm']\n"
     ]
    }
   ],
   "source": [
    "a=\"jaseem\"\n",
    "b=list(a)\n",
    "print(b)\n"
   ]
  },
  {
   "cell_type": "code",
   "execution_count": 58,
   "id": "031b6321",
   "metadata": {},
   "outputs": [
    {
     "name": "stdout",
     "output_type": "stream",
     "text": [
      "[1, 2, 3]\n"
     ]
    }
   ],
   "source": [
    "a=(1,2,3)\n",
    "b=list(a)\n",
    "print(b)"
   ]
  },
  {
   "cell_type": "code",
   "execution_count": 76,
   "id": "db0e6452",
   "metadata": {},
   "outputs": [
    {
     "ename": "TypeError",
     "evalue": "'tuple' object is not callable",
     "output_type": "error",
     "traceback": [
      "\u001b[1;31m---------------------------------------------------------------------------\u001b[0m",
      "\u001b[1;31mTypeError\u001b[0m                                 Traceback (most recent call last)",
      "Input \u001b[1;32mIn [76]\u001b[0m, in \u001b[0;36m<cell line: 4>\u001b[1;34m()\u001b[0m\n\u001b[0;32m      2\u001b[0m myfood\u001b[38;5;241m=\u001b[39m\u001b[38;5;28mlist\u001b[39m(foods)\n\u001b[0;32m      3\u001b[0m myfood[\u001b[38;5;241m2\u001b[39m]\u001b[38;5;241m=\u001b[39m\u001b[38;5;124m\"\u001b[39m\u001b[38;5;124mrava\u001b[39m\u001b[38;5;124m\"\u001b[39m\n\u001b[1;32m----> 4\u001b[0m foods\u001b[38;5;241m=\u001b[39m\u001b[38;5;28;43mtuple\u001b[39;49m\u001b[43m(\u001b[49m\u001b[43mmyfood\u001b[49m\u001b[43m)\u001b[49m\n\u001b[0;32m      5\u001b[0m foods\n",
      "\u001b[1;31mTypeError\u001b[0m: 'tuple' object is not callable"
     ]
    }
   ],
   "source": [
    "foods=(\"rice\",\"biriyani\",\"dosa\",\"idli\")\n",
    "myfood=list(foods)\n",
    "myfood[2]=\"rava\"\n",
    "foods=t(myfood)\n",
    "foods"
   ]
  },
  {
   "cell_type": "code",
   "execution_count": null,
   "id": "1bd5ddbf",
   "metadata": {},
   "outputs": [],
   "source": []
  },
  {
   "cell_type": "code",
   "execution_count": null,
   "id": "f434ed45",
   "metadata": {},
   "outputs": [],
   "source": []
  }
 ],
 "metadata": {
  "kernelspec": {
   "display_name": "Python 3 (ipykernel)",
   "language": "python",
   "name": "python3"
  },
  "language_info": {
   "codemirror_mode": {
    "name": "ipython",
    "version": 3
   },
   "file_extension": ".py",
   "mimetype": "text/x-python",
   "name": "python",
   "nbconvert_exporter": "python",
   "pygments_lexer": "ipython3",
   "version": "3.9.12"
  }
 },
 "nbformat": 4,
 "nbformat_minor": 5
}
